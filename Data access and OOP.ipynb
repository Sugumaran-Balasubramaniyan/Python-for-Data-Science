{
 "cells": [
  {
   "cell_type": "code",
   "execution_count": 3,
   "metadata": {},
   "outputs": [
    {
     "data": {
      "text/html": [
       "<b><font color='blus'>Data access and OOP</font></b>\n",
       "<div id=\"my_id_menu_nb\">run previous cell, wait for 2 seconds</div>\n",
       "<script>\n",
       "function repeat_indent_string(n){\n",
       "    var a = \"\" ;\n",
       "    for ( ; n > 0 ; --n)\n",
       "        a += \"    \";\n",
       "    return a;\n",
       "}\n",
       "// look up into all sections and builds an automated menu //\n",
       "var update_menu_string = function(begin, lfirst, llast, sformat, send, keep_item, begin_format, end_format) {\n",
       "    var anchors = document.getElementsByClassName(\"section\");\n",
       "    if (anchors.length == 0) {\n",
       "        anchors = document.getElementsByClassName(\"text_cell_render rendered_html\");\n",
       "    }\n",
       "    var i,t;\n",
       "    var text_menu = begin;\n",
       "    var text_memo = \"<pre>\\nlength:\" + anchors.length + \"\\n\";\n",
       "    var ind = \"\";\n",
       "    var memo_level = 1;\n",
       "    var href;\n",
       "    var tags = [];\n",
       "    var main_item = 0;\n",
       "    var format_open = 0;\n",
       "    for (i = 0; i <= llast; i++)\n",
       "        tags.push(\"h\" + i);\n",
       "\n",
       "    for (i = 0; i < anchors.length; i++) {\n",
       "        text_memo += \"**\" + anchors[i].id + \"--\\n\";\n",
       "\n",
       "        var child = null;\n",
       "        for(t = 0; t < tags.length; t++) {\n",
       "            var r = anchors[i].getElementsByTagName(tags[t]);\n",
       "            if (r.length > 0) {\n",
       "child = r[0];\n",
       "break;\n",
       "            }\n",
       "        }\n",
       "        if (child == null) {\n",
       "            text_memo += \"null\\n\";\n",
       "            continue;\n",
       "        }\n",
       "        if (anchors[i].hasAttribute(\"id\")) {\n",
       "            // when converted in RST\n",
       "            href = anchors[i].id;\n",
       "            text_memo += \"#1-\" + href;\n",
       "            // passer à child suivant (le chercher)\n",
       "        }\n",
       "        else if (child.hasAttribute(\"id\")) {\n",
       "            // in a notebook\n",
       "            href = child.id;\n",
       "            text_memo += \"#2-\" + href;\n",
       "        }\n",
       "        else {\n",
       "            text_memo += \"#3-\" + \"*\" + \"\\n\";\n",
       "            continue;\n",
       "        }\n",
       "        var title = child.textContent;\n",
       "        var level = parseInt(child.tagName.substring(1,2));\n",
       "\n",
       "        text_memo += \"--\" + level + \"?\" + lfirst + \"--\" + title + \"\\n\";\n",
       "\n",
       "        if ((level < lfirst) || (level > llast)) {\n",
       "            continue ;\n",
       "        }\n",
       "        if (title.endsWith('¶')) {\n",
       "            title = title.substring(0,title.length-1).replace(\"<\", \"&lt;\")\n",
       "         .replace(\">\", \"&gt;\").replace(\"&\", \"&amp;\");\n",
       "        }\n",
       "        if (title.length == 0) {\n",
       "            continue;\n",
       "        }\n",
       "\n",
       "        while (level < memo_level) {\n",
       "            text_menu += end_format + \"</ul>\\n\";\n",
       "            format_open -= 1;\n",
       "            memo_level -= 1;\n",
       "        }\n",
       "        if (level == lfirst) {\n",
       "            main_item += 1;\n",
       "        }\n",
       "        if (keep_item != -1 && main_item != keep_item + 1) {\n",
       "            // alert(main_item + \" - \" + level + \" - \" + keep_item);\n",
       "            continue;\n",
       "        }\n",
       "        while (level > memo_level) {\n",
       "            text_menu += \"<ul>\\n\";\n",
       "            memo_level += 1;\n",
       "        }\n",
       "        text_menu += repeat_indent_string(level-2);\n",
       "        text_menu += begin_format + sformat.replace(\"__HREF__\", href).replace(\"__TITLE__\", title);\n",
       "        format_open += 1;\n",
       "    }\n",
       "    while (1 < memo_level) {\n",
       "        text_menu += end_format + \"</ul>\\n\";\n",
       "        memo_level -= 1;\n",
       "        format_open -= 1;\n",
       "    }\n",
       "    text_menu += send;\n",
       "    //text_menu += \"\\n\" + text_memo;\n",
       "\n",
       "    while (format_open > 0) {\n",
       "        text_menu += end_format;\n",
       "        format_open -= 1;\n",
       "    }\n",
       "    return text_menu;\n",
       "};\n",
       "var update_menu = function() {\n",
       "    var sbegin = \"\";\n",
       "    var sformat = '<a href=\"#__HREF__\">__TITLE__</a>';\n",
       "    var send = \"\";\n",
       "    var begin_format = '<li>';\n",
       "    var end_format = '</li>';\n",
       "    var keep_item = -1;\n",
       "    var text_menu = update_menu_string(sbegin, 1, 4, sformat, send, keep_item,\n",
       "       begin_format, end_format);\n",
       "    var menu = document.getElementById(\"my_id_menu_nb\");\n",
       "    menu.innerHTML=text_menu;\n",
       "};\n",
       "window.setTimeout(update_menu,2000);\n",
       "            </script>"
      ],
      "text/plain": [
       "<IPython.core.display.HTML object>"
      ]
     },
     "execution_count": 3,
     "metadata": {},
     "output_type": "execute_result"
    }
   ],
   "source": [
    "from jyquickhelper import add_notebook_menu\n",
    "add_notebook_menu(first_level=1, last_level=4, header=\"<font color='blus'>Data access and OOP</font>\")"
   ]
  },
  {
   "cell_type": "markdown",
   "metadata": {},
   "source": [
    "# <font color='blus'> Using `pandas` and dataframes"
   ]
  },
  {
   "cell_type": "code",
   "execution_count": 2,
   "metadata": {},
   "outputs": [],
   "source": [
    "import pandas as pd"
   ]
  },
  {
   "cell_type": "code",
   "execution_count": 3,
   "metadata": {
    "scrolled": true
   },
   "outputs": [
    {
     "data": {
      "text/html": [
       "<div>\n",
       "<style scoped>\n",
       "    .dataframe tbody tr th:only-of-type {\n",
       "        vertical-align: middle;\n",
       "    }\n",
       "\n",
       "    .dataframe tbody tr th {\n",
       "        vertical-align: top;\n",
       "    }\n",
       "\n",
       "    .dataframe thead th {\n",
       "        text-align: right;\n",
       "    }\n",
       "</style>\n",
       "<table border=\"1\" class=\"dataframe\">\n",
       "  <thead>\n",
       "    <tr style=\"text-align: right;\">\n",
       "      <th></th>\n",
       "      <th>firstname</th>\n",
       "      <th>last_name</th>\n",
       "      <th>age</th>\n",
       "    </tr>\n",
       "  </thead>\n",
       "  <tbody>\n",
       "    <tr>\n",
       "      <th>0</th>\n",
       "      <td>Leon</td>\n",
       "      <td>Smith</td>\n",
       "      <td>26</td>\n",
       "    </tr>\n",
       "    <tr>\n",
       "      <th>1</th>\n",
       "      <td>Paul</td>\n",
       "      <td>John</td>\n",
       "      <td>12</td>\n",
       "    </tr>\n",
       "    <tr>\n",
       "      <th>2</th>\n",
       "      <td>Sabrina</td>\n",
       "      <td>Edouard</td>\n",
       "      <td>35</td>\n",
       "    </tr>\n",
       "    <tr>\n",
       "      <th>3</th>\n",
       "      <td>Lucia</td>\n",
       "      <td>Oconor</td>\n",
       "      <td>44</td>\n",
       "    </tr>\n",
       "  </tbody>\n",
       "</table>\n",
       "</div>"
      ],
      "text/plain": [
       "  firstname last_name  age\n",
       "0      Leon     Smith   26\n",
       "1      Paul      John   12\n",
       "2   Sabrina   Edouard   35\n",
       "3     Lucia    Oconor   44"
      ]
     },
     "metadata": {},
     "output_type": "display_data"
    }
   ],
   "source": [
    "dict_person ={'firstname':['Leon','Paul','Sabrina', 'Lucia']\n",
    "                , 'last_name':['Smith','John','Edouard', 'Oconor']\n",
    "                , 'age': [26, 12, 35, 44]} \n",
    "df_person = pd.DataFrame(dict_person)\n",
    "display(df_person)"
   ]
  },
  {
   "cell_type": "markdown",
   "metadata": {},
   "source": [
    "## <font color='blus'> Explore dataframe"
   ]
  },
  {
   "cell_type": "markdown",
   "metadata": {},
   "source": [
    "> `df_shape` : number of rows and number of columns of dataframe."
   ]
  },
  {
   "cell_type": "code",
   "execution_count": 4,
   "metadata": {},
   "outputs": [
    {
     "data": {
      "text/plain": [
       "(4, 3)"
      ]
     },
     "execution_count": 4,
     "metadata": {},
     "output_type": "execute_result"
    }
   ],
   "source": [
    "df_person.shape"
   ]
  },
  {
   "cell_type": "markdown",
   "metadata": {},
   "source": [
    "> `df_columns` : names of dataframe columns"
   ]
  },
  {
   "cell_type": "code",
   "execution_count": 5,
   "metadata": {},
   "outputs": [
    {
     "data": {
      "text/plain": [
       "Index(['firstname', 'last_name', 'age'], dtype='object')"
      ]
     },
     "execution_count": 5,
     "metadata": {},
     "output_type": "execute_result"
    }
   ],
   "source": [
    "df_person.columns"
   ]
  },
  {
   "cell_type": "markdown",
   "metadata": {},
   "source": [
    "> `df_head` display first `N` rows of dataframe."
   ]
  },
  {
   "cell_type": "code",
   "execution_count": 6,
   "metadata": {},
   "outputs": [
    {
     "data": {
      "text/html": [
       "<div>\n",
       "<style scoped>\n",
       "    .dataframe tbody tr th:only-of-type {\n",
       "        vertical-align: middle;\n",
       "    }\n",
       "\n",
       "    .dataframe tbody tr th {\n",
       "        vertical-align: top;\n",
       "    }\n",
       "\n",
       "    .dataframe thead th {\n",
       "        text-align: right;\n",
       "    }\n",
       "</style>\n",
       "<table border=\"1\" class=\"dataframe\">\n",
       "  <thead>\n",
       "    <tr style=\"text-align: right;\">\n",
       "      <th></th>\n",
       "      <th>firstname</th>\n",
       "      <th>last_name</th>\n",
       "      <th>age</th>\n",
       "    </tr>\n",
       "  </thead>\n",
       "  <tbody>\n",
       "    <tr>\n",
       "      <th>0</th>\n",
       "      <td>Leon</td>\n",
       "      <td>Smith</td>\n",
       "      <td>26</td>\n",
       "    </tr>\n",
       "    <tr>\n",
       "      <th>1</th>\n",
       "      <td>Paul</td>\n",
       "      <td>John</td>\n",
       "      <td>12</td>\n",
       "    </tr>\n",
       "    <tr>\n",
       "      <th>2</th>\n",
       "      <td>Sabrina</td>\n",
       "      <td>Edouard</td>\n",
       "      <td>35</td>\n",
       "    </tr>\n",
       "  </tbody>\n",
       "</table>\n",
       "</div>"
      ],
      "text/plain": [
       "  firstname last_name  age\n",
       "0      Leon     Smith   26\n",
       "1      Paul      John   12\n",
       "2   Sabrina   Edouard   35"
      ]
     },
     "execution_count": 6,
     "metadata": {},
     "output_type": "execute_result"
    }
   ],
   "source": [
    "df_person.head(3)"
   ]
  },
  {
   "cell_type": "markdown",
   "metadata": {},
   "source": [
    "> `sample` : display a random sample of the dataframe."
   ]
  },
  {
   "cell_type": "code",
   "execution_count": 7,
   "metadata": {},
   "outputs": [
    {
     "data": {
      "text/html": [
       "<div>\n",
       "<style scoped>\n",
       "    .dataframe tbody tr th:only-of-type {\n",
       "        vertical-align: middle;\n",
       "    }\n",
       "\n",
       "    .dataframe tbody tr th {\n",
       "        vertical-align: top;\n",
       "    }\n",
       "\n",
       "    .dataframe thead th {\n",
       "        text-align: right;\n",
       "    }\n",
       "</style>\n",
       "<table border=\"1\" class=\"dataframe\">\n",
       "  <thead>\n",
       "    <tr style=\"text-align: right;\">\n",
       "      <th></th>\n",
       "      <th>firstname</th>\n",
       "      <th>last_name</th>\n",
       "      <th>age</th>\n",
       "    </tr>\n",
       "  </thead>\n",
       "  <tbody>\n",
       "    <tr>\n",
       "      <th>3</th>\n",
       "      <td>Lucia</td>\n",
       "      <td>Oconor</td>\n",
       "      <td>44</td>\n",
       "    </tr>\n",
       "    <tr>\n",
       "      <th>1</th>\n",
       "      <td>Paul</td>\n",
       "      <td>John</td>\n",
       "      <td>12</td>\n",
       "    </tr>\n",
       "    <tr>\n",
       "      <th>0</th>\n",
       "      <td>Leon</td>\n",
       "      <td>Smith</td>\n",
       "      <td>26</td>\n",
       "    </tr>\n",
       "  </tbody>\n",
       "</table>\n",
       "</div>"
      ],
      "text/plain": [
       "  firstname last_name  age\n",
       "3     Lucia    Oconor   44\n",
       "1      Paul      John   12\n",
       "0      Leon     Smith   26"
      ]
     },
     "execution_count": 7,
     "metadata": {},
     "output_type": "execute_result"
    }
   ],
   "source": [
    "df_person.sample(3)"
   ]
  },
  {
   "cell_type": "markdown",
   "metadata": {},
   "source": [
    "## <font color='blus'> Loop over dataframes"
   ]
  },
  {
   "cell_type": "code",
   "execution_count": 8,
   "metadata": {},
   "outputs": [
    {
     "data": {
      "text/html": [
       "<div>\n",
       "<style scoped>\n",
       "    .dataframe tbody tr th:only-of-type {\n",
       "        vertical-align: middle;\n",
       "    }\n",
       "\n",
       "    .dataframe tbody tr th {\n",
       "        vertical-align: top;\n",
       "    }\n",
       "\n",
       "    .dataframe thead th {\n",
       "        text-align: right;\n",
       "    }\n",
       "</style>\n",
       "<table border=\"1\" class=\"dataframe\">\n",
       "  <thead>\n",
       "    <tr style=\"text-align: right;\">\n",
       "      <th></th>\n",
       "      <th>firstname</th>\n",
       "      <th>last_name</th>\n",
       "      <th>age</th>\n",
       "    </tr>\n",
       "  </thead>\n",
       "  <tbody>\n",
       "    <tr>\n",
       "      <th>0</th>\n",
       "      <td>Leon</td>\n",
       "      <td>Smith</td>\n",
       "      <td>26</td>\n",
       "    </tr>\n",
       "    <tr>\n",
       "      <th>1</th>\n",
       "      <td>Paul</td>\n",
       "      <td>John</td>\n",
       "      <td>12</td>\n",
       "    </tr>\n",
       "    <tr>\n",
       "      <th>2</th>\n",
       "      <td>Sabrina</td>\n",
       "      <td>Edouard</td>\n",
       "      <td>35</td>\n",
       "    </tr>\n",
       "    <tr>\n",
       "      <th>3</th>\n",
       "      <td>Lucia</td>\n",
       "      <td>Oconor</td>\n",
       "      <td>44</td>\n",
       "    </tr>\n",
       "  </tbody>\n",
       "</table>\n",
       "</div>"
      ],
      "text/plain": [
       "  firstname last_name  age\n",
       "0      Leon     Smith   26\n",
       "1      Paul      John   12\n",
       "2   Sabrina   Edouard   35\n",
       "3     Lucia    Oconor   44"
      ]
     },
     "execution_count": 8,
     "metadata": {},
     "output_type": "execute_result"
    }
   ],
   "source": [
    "df_person"
   ]
  },
  {
   "cell_type": "markdown",
   "metadata": {},
   "source": [
    "### <font color='blus'> Dataframes indexes"
   ]
  },
  {
   "cell_type": "code",
   "execution_count": 9,
   "metadata": {},
   "outputs": [
    {
     "name": "stdout",
     "output_type": "stream",
     "text": [
      "firstname     Leon\n",
      "last_name    Smith\n",
      "age             26\n",
      "Name: 0, dtype: object\n",
      "----\n",
      "firstname    Paul\n",
      "last_name    John\n",
      "age            12\n",
      "Name: 1, dtype: object\n",
      "----\n",
      "firstname    Sabrina\n",
      "last_name    Edouard\n",
      "age               35\n",
      "Name: 2, dtype: object\n",
      "----\n",
      "firstname     Lucia\n",
      "last_name    Oconor\n",
      "age              44\n",
      "Name: 3, dtype: object\n",
      "----\n"
     ]
    }
   ],
   "source": [
    "for index in df_person.index :\n",
    "    # Access to the dataframe row indexed with index value\n",
    "    row = df_person.loc[index]\n",
    "    print(row)\n",
    "    print(\"----\")\n"
   ]
  },
  {
   "cell_type": "markdown",
   "metadata": {},
   "source": [
    "> A row in a dataframe is a `Series` object\n",
    ">\n",
    "> `Series` are a kind of dataframe with a single column\n",
    ">\n",
    "> A dataframe are compound series sharing the same index "
   ]
  },
  {
   "cell_type": "code",
   "execution_count": 10,
   "metadata": {},
   "outputs": [
    {
     "data": {
      "text/plain": [
       "pandas.core.series.Series"
      ]
     },
     "execution_count": 10,
     "metadata": {},
     "output_type": "execute_result"
    }
   ],
   "source": [
    "index = 2\n",
    "type(df_person.loc[index])"
   ]
  },
  {
   "cell_type": "markdown",
   "metadata": {},
   "source": [
    "### <font color='blus'> Dataframes columns"
   ]
  },
  {
   "cell_type": "code",
   "execution_count": 11,
   "metadata": {},
   "outputs": [
    {
     "name": "stdout",
     "output_type": "stream",
     "text": [
      "firstname\n",
      "0       Leon\n",
      "1       Paul\n",
      "2    Sabrina\n",
      "3      Lucia\n",
      "Name: firstname, dtype: object\n",
      "-----\n",
      "last_name\n",
      "0      Smith\n",
      "1       John\n",
      "2    Edouard\n",
      "3     Oconor\n",
      "Name: last_name, dtype: object\n",
      "-----\n",
      "age\n",
      "0    26\n",
      "1    12\n",
      "2    35\n",
      "3    44\n",
      "Name: age, dtype: int64\n",
      "-----\n"
     ]
    }
   ],
   "source": [
    "for column_name in df_person.columns :\n",
    "    # Access to the dataframe row indexed with index value\n",
    "    column_content = df_person[column_name]\n",
    "    print(column_name)\n",
    "    print(column_content)\n",
    "    print('-----')\n"
   ]
  },
  {
   "cell_type": "code",
   "execution_count": 12,
   "metadata": {},
   "outputs": [
    {
     "data": {
      "text/plain": [
       "pandas.core.series.Series"
      ]
     },
     "execution_count": 12,
     "metadata": {},
     "output_type": "execute_result"
    }
   ],
   "source": [
    "column_name = 'last_name'\n",
    "type(df_person[column_name])"
   ]
  },
  {
   "cell_type": "markdown",
   "metadata": {},
   "source": [
    "## <font color='blus'> Reading CSV files"
   ]
  },
  {
   "cell_type": "markdown",
   "metadata": {},
   "source": [
    "### <font color='blus'> Explore CSV files"
   ]
  },
  {
   "attachments": {
    "image.png": {
     "image/png": "[encoded data removed]"
    }
   },
   "cell_type": "markdown",
   "metadata": {},
   "source": [
    ">file:///home/bangui/Dataforcast/Projets/Missions/EML/Img/csv_covid19.png![image.png](attachment:image.png)"
   ]
  },
  {
   "cell_type": "markdown",
   "metadata": {},
   "source": [
    "> Picture above shows that there is an header for this file, meaning, the firts row is dedicated for columns description.\n",
    ">\n",
    "> Also, you may need to edit a csv file with a text editor to identify separator character."
   ]
  },
  {
   "cell_type": "markdown",
   "metadata": {},
   "source": [
    "### <font color='blus'> Store CSV file content in a pandas dataframe"
   ]
  },
  {
   "cell_type": "code",
   "execution_count": 13,
   "metadata": {},
   "outputs": [],
   "source": [
    "df_covid = pd.io.parsers.read_csv(\"time_series_covid19_confirmed_global.csv\", header=0)"
   ]
  },
  {
   "cell_type": "code",
   "execution_count": 14,
   "metadata": {},
   "outputs": [],
   "source": [
    "df_covid = pd.read_csv(\"time_series_covid19_confirmed_global.csv\", header=0)"
   ]
  },
  {
   "cell_type": "markdown",
   "metadata": {},
   "source": [
    "### <font color='blus'> Explore pandas dataframe"
   ]
  },
  {
   "cell_type": "code",
   "execution_count": 15,
   "metadata": {},
   "outputs": [
    {
     "data": {
      "text/plain": [
       "(289, 979)"
      ]
     },
     "execution_count": 15,
     "metadata": {},
     "output_type": "execute_result"
    }
   ],
   "source": [
    "df_covid.shape"
   ]
  },
  {
   "cell_type": "code",
   "execution_count": 16,
   "metadata": {},
   "outputs": [
    {
     "data": {
      "text/plain": [
       "Index(['Province/State', 'Country/Region', 'Lat', 'Long', '1/22/20', '1/23/20',\n",
       "       '1/24/20', '1/25/20', '1/26/20', '1/27/20',\n",
       "       ...\n",
       "       '9/13/22', '9/14/22', '9/15/22', '9/16/22', '9/17/22', '9/18/22',\n",
       "       '9/19/22', '9/20/22', '9/21/22', '9/22/22'],\n",
       "      dtype='object', length=979)"
      ]
     },
     "execution_count": 16,
     "metadata": {},
     "output_type": "execute_result"
    }
   ],
   "source": [
    "df_covid.columns"
   ]
  },
  {
   "cell_type": "markdown",
   "metadata": {},
   "source": [
    "> Exploration allows a first data interpretation.\n",
    ">\n",
    "> It show here that columns after `Long` are dates. It can be concluded that this dataframe is composed from **time series**"
   ]
  },
  {
   "cell_type": "code",
   "execution_count": 17,
   "metadata": {},
   "outputs": [
    {
     "data": {
      "text/plain": [
       "0                              NaN\n",
       "1                              NaN\n",
       "2                              NaN\n",
       "3                              NaN\n",
       "4                              NaN\n",
       "5                              NaN\n",
       "6                              NaN\n",
       "7                              NaN\n",
       "8                              NaN\n",
       "9     Australian Capital Territory\n",
       "10                 New South Wales\n",
       "11              Northern Territory\n",
       "12                      Queensland\n",
       "13                 South Australia\n",
       "14                        Tasmania\n",
       "Name: Province/State, dtype: object"
      ]
     },
     "execution_count": 17,
     "metadata": {},
     "output_type": "execute_result"
    }
   ],
   "source": [
    "df_covid['Province/State'].head(15)"
   ]
  },
  {
   "cell_type": "code",
   "execution_count": 18,
   "metadata": {},
   "outputs": [
    {
     "data": {
      "text/html": [
       "<div>\n",
       "<style scoped>\n",
       "    .dataframe tbody tr th:only-of-type {\n",
       "        vertical-align: middle;\n",
       "    }\n",
       "\n",
       "    .dataframe tbody tr th {\n",
       "        vertical-align: top;\n",
       "    }\n",
       "\n",
       "    .dataframe thead th {\n",
       "        text-align: right;\n",
       "    }\n",
       "</style>\n",
       "<table border=\"1\" class=\"dataframe\">\n",
       "  <thead>\n",
       "    <tr style=\"text-align: right;\">\n",
       "      <th></th>\n",
       "      <th>Province/State</th>\n",
       "      <th>Country/Region</th>\n",
       "      <th>Lat</th>\n",
       "      <th>Long</th>\n",
       "      <th>1/22/20</th>\n",
       "      <th>1/23/20</th>\n",
       "      <th>1/24/20</th>\n",
       "      <th>1/25/20</th>\n",
       "      <th>1/26/20</th>\n",
       "      <th>1/27/20</th>\n",
       "      <th>...</th>\n",
       "      <th>9/13/22</th>\n",
       "      <th>9/14/22</th>\n",
       "      <th>9/15/22</th>\n",
       "      <th>9/16/22</th>\n",
       "      <th>9/17/22</th>\n",
       "      <th>9/18/22</th>\n",
       "      <th>9/19/22</th>\n",
       "      <th>9/20/22</th>\n",
       "      <th>9/21/22</th>\n",
       "      <th>9/22/22</th>\n",
       "    </tr>\n",
       "  </thead>\n",
       "  <tbody>\n",
       "    <tr>\n",
       "      <th>13</th>\n",
       "      <td>South Australia</td>\n",
       "      <td>Australia</td>\n",
       "      <td>-34.9285</td>\n",
       "      <td>138.6007</td>\n",
       "      <td>0</td>\n",
       "      <td>0</td>\n",
       "      <td>0</td>\n",
       "      <td>0</td>\n",
       "      <td>0</td>\n",
       "      <td>0</td>\n",
       "      <td>...</td>\n",
       "      <td>758840</td>\n",
       "      <td>758840</td>\n",
       "      <td>758840</td>\n",
       "      <td>762643</td>\n",
       "      <td>762643</td>\n",
       "      <td>762643</td>\n",
       "      <td>762643</td>\n",
       "      <td>762643</td>\n",
       "      <td>762643</td>\n",
       "      <td>765857</td>\n",
       "    </tr>\n",
       "  </tbody>\n",
       "</table>\n",
       "<p>1 rows × 979 columns</p>\n",
       "</div>"
      ],
      "text/plain": [
       "     Province/State Country/Region      Lat      Long  1/22/20  1/23/20  \\\n",
       "13  South Australia      Australia -34.9285  138.6007        0        0   \n",
       "\n",
       "    1/24/20  1/25/20  1/26/20  1/27/20  ...  9/13/22  9/14/22  9/15/22  \\\n",
       "13        0        0        0        0  ...   758840   758840   758840   \n",
       "\n",
       "    9/16/22  9/17/22  9/18/22  9/19/22  9/20/22  9/21/22  9/22/22  \n",
       "13   762643   762643   762643   762643   762643   762643   765857  \n",
       "\n",
       "[1 rows x 979 columns]"
      ]
     },
     "execution_count": 18,
     "metadata": {},
     "output_type": "execute_result"
    }
   ],
   "source": [
    "location = 'South Australia'\n",
    "filter_location = df_covid['Province/State']==location\n",
    "df_area = df_covid[filter_location]\n",
    "df_area"
   ]
  },
  {
   "cell_type": "code",
   "execution_count": 19,
   "metadata": {},
   "outputs": [],
   "source": [
    "start_date = '1/22/20'"
   ]
  },
  {
   "cell_type": "code",
   "execution_count": 20,
   "metadata": {},
   "outputs": [
    {
     "data": {
      "text/plain": [
       "Province/State    South Australia\n",
       "Country/Region          Australia\n",
       "Lat                      -34.9285\n",
       "Long                     138.6007\n",
       "1/22/20                         0\n",
       "                       ...       \n",
       "9/18/22                    762643\n",
       "9/19/22                    762643\n",
       "9/20/22                    762643\n",
       "9/21/22                    762643\n",
       "9/22/22                    765857\n",
       "Name: 13, Length: 979, dtype: object"
      ]
     },
     "execution_count": 20,
     "metadata": {},
     "output_type": "execute_result"
    }
   ],
   "source": [
    "df_area.loc[13]"
   ]
  },
  {
   "cell_type": "code",
   "execution_count": 21,
   "metadata": {},
   "outputs": [
    {
     "data": {
      "text/plain": [
       "Province/State    South Australia\n",
       "Country/Region          Australia\n",
       "Lat                      -34.9285\n",
       "Long                     138.6007\n",
       "1/22/20                         0\n",
       "                       ...       \n",
       "9/18/22                    762643\n",
       "9/19/22                    762643\n",
       "9/20/22                    762643\n",
       "9/21/22                    762643\n",
       "9/22/22                    765857\n",
       "Name: 13, Length: 979, dtype: object"
      ]
     },
     "execution_count": 21,
     "metadata": {},
     "output_type": "execute_result"
    }
   ],
   "source": [
    "df_area.iloc[0]"
   ]
  },
  {
   "cell_type": "code",
   "execution_count": 22,
   "metadata": {},
   "outputs": [
    {
     "data": {
      "text/plain": [
       "1/22/20         0\n",
       "1/23/20         0\n",
       "1/24/20         0\n",
       "1/25/20         0\n",
       "1/26/20         0\n",
       "            ...  \n",
       "9/18/22    762643\n",
       "9/19/22    762643\n",
       "9/20/22    762643\n",
       "9/21/22    762643\n",
       "9/22/22    765857\n",
       "Name: 13, Length: 975, dtype: object"
      ]
     },
     "execution_count": 22,
     "metadata": {},
     "output_type": "execute_result"
    }
   ],
   "source": [
    "start_date = '1/22/20'\n",
    "df_area.iloc[0][start_date:]"
   ]
  },
  {
   "cell_type": "code",
   "execution_count": 23,
   "metadata": {},
   "outputs": [
    {
     "data": {
      "text/plain": [
       "['1/22/20',\n",
       " '1/23/20',\n",
       " '1/24/20',\n",
       " '1/25/20',\n",
       " '1/26/20',\n",
       " '1/27/20',\n",
       " '1/28/20',\n",
       " '1/29/20',\n",
       " '1/30/20',\n",
       " '1/31/20']"
      ]
     },
     "execution_count": 23,
     "metadata": {},
     "output_type": "execute_result"
    }
   ],
   "source": [
    "list_date = [date for date in df_area.iloc[0][start_date:].index]\n",
    "list_date[:10]"
   ]
  },
  {
   "cell_type": "code",
   "execution_count": 24,
   "metadata": {},
   "outputs": [
    {
     "data": {
      "text/plain": [
       "pandas.core.series.Series"
      ]
     },
     "execution_count": 24,
     "metadata": {},
     "output_type": "execute_result"
    }
   ],
   "source": [
    "type(df_area.iloc[0][start_date:])"
   ]
  },
  {
   "cell_type": "code",
   "execution_count": 25,
   "metadata": {},
   "outputs": [],
   "source": [
    "list_x = [i for i in range(len(df_area.iloc[0][start_date:]))]\n",
    "list_y = df_area.iloc[0][start_date:].values"
   ]
  },
  {
   "cell_type": "code",
   "execution_count": 26,
   "metadata": {},
   "outputs": [
    {
     "data": {
      "image/png": "[encoded data removed]",
      "text/plain": [
       "<Figure size 640x480 with 1 Axes>"
      ]
     },
     "metadata": {},
     "output_type": "display_data"
    }
   ],
   "source": [
    "#%matplotlib notebook\n",
    "from matplotlib import pyplot as plt\n",
    "\n",
    "# draw a curve; years on the x-axis, GDP (GDP) on the y-axis\n",
    "plt.plot(list_x, list_y, color='red', linestyle='solid')\n",
    "# ajoute un titre\n",
    "plt.title(\"Covid 19 expansion in \"+location)\n",
    "# ajoute une étiquette sur l'axe des y\n",
    "plt.xlabel(\"Days from \"+start_date)\n",
    "plt.ylabel(\"Nb of contaminations\")\n",
    "plt.show()"
   ]
  },
  {
   "cell_type": "markdown",
   "metadata": {},
   "source": [
    "> let's put all that in a function"
   ]
  },
  {
   "cell_type": "code",
   "execution_count": 27,
   "metadata": {},
   "outputs": [],
   "source": [
    "def line_plot(list_x, list_y, location, start_date, y_label):\n",
    "    # draw a curve; years on the x-axis, GDP (GDP) on the y-axis\n",
    "    plt.plot(list_x, list_y, color='red', linestyle='solid')\n",
    "    # ajoute un titre\n",
    "    plt.title(\"Covid 19 expansion in \"+location)\n",
    "    # ajoute une étiquette sur l'axe des y\n",
    "    plt.xlabel(\"Days from \"+start_date)\n",
    "    plt.ylabel(y_label)\n",
    "    plt.show()"
   ]
  },
  {
   "cell_type": "code",
   "execution_count": 28,
   "metadata": {},
   "outputs": [
    {
     "data": {
      "image/png": "[encoded data removed]",
      "text/plain": [
       "<Figure size 640x480 with 1 Axes>"
      ]
     },
     "metadata": {},
     "output_type": "display_data"
    }
   ],
   "source": [
    "y_label = \"Nb of contaminations in an area\"\n",
    "line_plot(list_x, list_y, location, start_date,y_label)"
   ]
  },
  {
   "cell_type": "code",
   "execution_count": 29,
   "metadata": {},
   "outputs": [],
   "source": [
    "from matplotlib import pyplot as plt\n",
    "def plot_line(list_x, list_y, title=\"No title\", xlabel=\"No xlabel\", ylabel=\"No ylabel\", color='green', linestyle='solid'):\n",
    "\n",
    "    plt.plot(list_x, list_y, color=color, linestyle='solid')\n",
    "    plt.title(title)\n",
    "    plt.xlabel(xlabel)\n",
    "    plt.ylabel(ylabel)\n",
    "    plt.show()"
   ]
  },
  {
   "cell_type": "code",
   "execution_count": 30,
   "metadata": {},
   "outputs": [
    {
     "data": {
      "image/png": "[encoded data removed]",
      "text/plain": [
       "<Figure size 640x480 with 1 Axes>"
      ]
     },
     "metadata": {},
     "output_type": "display_data"
    }
   ],
   "source": [
    "list_x = [i for i in range(len(df_area.iloc[0][start_date:]))]\n",
    "list_y = df_area.iloc[0][start_date:].values\n",
    "plot_line(list_x, list_y)"
   ]
  },
  {
   "cell_type": "markdown",
   "metadata": {},
   "source": [
    "> With **kwarg"
   ]
  },
  {
   "cell_type": "code",
   "execution_count": 31,
   "metadata": {},
   "outputs": [],
   "source": [
    "from matplotlib import pyplot as plt\n",
    "def plot_line(list_x,list_y,  **kwargs):\n",
    "    \n",
    "    title = kwargs['title']\n",
    "    xlabel = kwargs['xlabel']\n",
    "    ylabel = kwargs['ylabel']\n",
    "    color = kwargs['color']\n",
    "    linestyle = kwargs['linestyle']\n",
    "    \n",
    "    plt.plot(list_x, list_y, color=color, linestyle=linestyle)\n",
    "    plt.title(title)\n",
    "    plt.xlabel(xlabel)\n",
    "    plt.ylabel(ylabel)\n",
    "    plt.show()\n",
    "    "
   ]
  },
  {
   "cell_type": "code",
   "execution_count": 32,
   "metadata": {},
   "outputs": [
    {
     "data": {
      "image/png": "[encoded data removed]",
      "text/plain": [
       "<Figure size 640x480 with 1 Axes>"
      ]
     },
     "metadata": {},
     "output_type": "display_data"
    }
   ],
   "source": [
    "dict_arg = {'title':\"Covid 19 expansion in \"+location\n",
    "            , 'xlabel':\"Days from \"+start_date\n",
    "            , 'ylabel':\"Expansion\"\n",
    "            , 'color':'black'\n",
    "            , 'linestyle':'solid'\n",
    "           }\n",
    "list_x = [i for i in range(len(df_area.iloc[0][start_date:]))]\n",
    "list_y = df_area.iloc[0][start_date:].values\n",
    "plot_line(list_x, list_y, **dict_arg)"
   ]
  },
  {
   "cell_type": "markdown",
   "metadata": {},
   "source": [
    "# <font color='blus'> Data access from files"
   ]
  },
  {
   "cell_type": "markdown",
   "metadata": {},
   "source": [
    "## <font color='blus'> Flat files with `pandas`"
   ]
  },
  {
   "cell_type": "markdown",
   "metadata": {},
   "source": [
    "> `pandas` is a Python package dedicated to data processing.\n",
    ">\n",
    "> This is an intelligent tool for reading files in a sense it contains classes that are able to interpret contents in a file."
   ]
  },
  {
   "cell_type": "markdown",
   "metadata": {},
   "source": [
    "## <font color='blus'> Structured files"
   ]
  },
  {
   "cell_type": "markdown",
   "metadata": {},
   "source": [
    "## <font color='blus'> Binary files\n",
    "\n",
    "> `pip install scikit-image`\n",
    ">\n",
    "> or\n",
    ">\n",
    "> `python -m pip install -U scikit-image` \n",
    "\n",
    "> Binary files are called **unstructured** files. This is a sequence of bits.\n",
    ">\n",
    "> There is no metadata to structure the file, means, extra-information to break down blocs into file. PNG file here under is explained on \n",
    "> - `https://en.wikipedia.org/wiki/Portable_Network_Graphics`\n",
    ">\n",
    "> Information like each pixel is represented with 3 fields and each one of the field is sized to 32 bits is out of the file.\n",
    ">\n",
    "> `Scipy` (contraction of Scientific Python) has developped algorithms for image processing. We use one of them here-under. Let's have an example with a `PNG` formated file."
   ]
  },
  {
   "cell_type": "markdown",
   "metadata": {},
   "source": [
    "# <font color='blus'>Object Oriented Programming"
   ]
  },
  {
   "cell_type": "markdown",
   "metadata": {},
   "source": [
    "> Object Oriented Programming allows to modelize things of the real world. We will see how.\n",
    ">\n",
    "> An object is a generic term to identify an entity, a thing or a concept of the real world. An object is a key element of a business domain.\n",
    ">\n",
    "> For example, an employee is a key element of a human resources service, as well as book is a key element for a book saler. Ignoring such entity does not make sense for the domain we describe while designing a human resources application.\n",
    ">\n",
    ">\n",
    "> OOP consists of identifying these entities and implementing their behavior.\n",
    ">\n",
    "> For example in the quote \"a cat is a mammal which belongs to the feline species\".\n",
    ">\n",
    "> Three entities are identifiable: cat, mammal and feline."
   ]
  },
  {
   "cell_type": "markdown",
   "metadata": {},
   "source": [
    "> The pillars of object programming are:\n",
    ">\n",
    ">> - Abstraction\n",
    ">>\n",
    ">> - Encapsulation\n",
    ">>\n",
    ">> - Inheritance\n",
    ">>\n",
    ">> - Polymorphism"
   ]
  },
  {
   "cell_type": "markdown",
   "metadata": {},
   "source": [
    "## <font color='blus'>Encapsulation and Objects"
   ]
  },
  {
   "cell_type": "markdown",
   "metadata": {},
   "source": [
    "> Encapsulation is hidding the details of an object's behavior and state.\n",
    ">\n",
    "> The state of an object is represented by all the values of its attributes."
   ]
  },
  {
   "cell_type": "markdown",
   "metadata": {},
   "source": [
    "> These entities are encoded in classes. Classes are categories.\n",
    ">\n",
    "> An instance of a class, is a representative of this class, an object."
   ]
  },
  {
   "cell_type": "code",
   "execution_count": 33,
   "metadata": {},
   "outputs": [],
   "source": [
    "class Cat() :\n",
    "    '''Model of a cat.\n",
    "    '''\n",
    "    def __init__(self) :\n",
    "        pass"
   ]
  },
  {
   "cell_type": "markdown",
   "metadata": {},
   "source": [
    "> This is the minimal syntax to define a class"
   ]
  },
  {
   "cell_type": "markdown",
   "metadata": {},
   "source": [
    "> `__init__` is named a special method. A special method allows a class to have a specific behaviour.\n",
    ">\n",
    "> This special method allows to create an **instance** of the class `Cat`. `oCat` is an instance of `Cat` class in the same way you, me, are instances of human beings class.\n",
    ">\n",
    "> `self` is interpreted as myself. `self` is **always** the first argument of any methods, as we will see later.\n",
    ">\n",
    "> We're going to see later how to implement special methods for classes.\n",
    ">\n",
    "> Then `oClass` is an object, an instance, of type `Class`.\n",
    ">\n",
    "> Applying `dir` to any Python element leads to display this special method, `__init__`.\n",
    ">\n",
    "> **In Python, all is object**. Even a class, such as `Cat` is an object.\n"
   ]
  },
  {
   "cell_type": "code",
   "execution_count": 34,
   "metadata": {},
   "outputs": [
    {
     "data": {
      "text/plain": [
       "True"
      ]
     },
     "execution_count": 34,
     "metadata": {},
     "output_type": "execute_result"
    }
   ],
   "source": [
    "'__init__' in dir(Cat)"
   ]
  },
  {
   "cell_type": "code",
   "execution_count": 35,
   "metadata": {},
   "outputs": [
    {
     "data": {
      "text/plain": [
       "__main__.Cat"
      ]
     },
     "execution_count": 35,
     "metadata": {},
     "output_type": "execute_result"
    }
   ],
   "source": [
    "oCat = Cat()#__init__ special method is invoked here\n",
    "type(oCat)"
   ]
  },
  {
   "cell_type": "markdown",
   "metadata": {},
   "source": [
    "### <font color='blus'>Object properties"
   ]
  },
  {
   "cell_type": "markdown",
   "metadata": {},
   "source": [
    "> Properties are what characterizes an object, a cat in the example above. \n",
    ">\n",
    ">**Any object is characterized with properties values.**\n",
    ">\n",
    "> Properties values is what defines the object state. \n",
    ">\n",
    "> For the cat example, properties may be :\n",
    "> - identifier\n",
    "> - weight\n",
    "> - gender\n",
    ">\n",
    "> In the example below, a cat, with a given name, a weight and gender is created.\n",
    ">\n",
    "> Object intialization with properties values takes place with arguments of `__init__` special method."
   ]
  },
  {
   "cell_type": "code",
   "execution_count": 36,
   "metadata": {},
   "outputs": [],
   "source": [
    "class Cat() :\n",
    "    '''Model of a cat.\n",
    "    Cat properties are provided as arguments of initialization method.\n",
    "    These properties characterize a cat and may be updated.\n",
    "    '''\n",
    "    def __init__(self, name='Minou', weight=5.2, speakout='miaouuu', gender='female') :\n",
    "        self._identifier = name\n",
    "        self._weight     = weight\n",
    "        self._gender     = gender\n"
   ]
  },
  {
   "cell_type": "code",
   "execution_count": 37,
   "metadata": {},
   "outputs": [
    {
     "name": "stdout",
     "output_type": "stream",
     "text": [
      "Minou\n",
      "5.2\n",
      "female\n"
     ]
    }
   ],
   "source": [
    "oCat = Cat()\n",
    "print(oCat._identifier)\n",
    "print(oCat._weight)\n",
    "print(oCat._gender)"
   ]
  },
  {
   "cell_type": "code",
   "execution_count": 38,
   "metadata": {},
   "outputs": [
    {
     "name": "stdout",
     "output_type": "stream",
     "text": [
      "Minou\n",
      "5.2\n",
      "male\n"
     ]
    }
   ],
   "source": [
    "oCat1 = Cat(gender='male')\n",
    "print(oCat1._identifier)\n",
    "print(oCat1._weight)\n",
    "print(oCat1._gender)"
   ]
  },
  {
   "cell_type": "code",
   "execution_count": 39,
   "metadata": {},
   "outputs": [
    {
     "data": {
      "text/plain": [
       "['__class__',\n",
       " '__delattr__',\n",
       " '__dict__',\n",
       " '__dir__',\n",
       " '__doc__',\n",
       " '__eq__',\n",
       " '__format__',\n",
       " '__ge__',\n",
       " '__getattribute__',\n",
       " '__gt__',\n",
       " '__hash__',\n",
       " '__init__',\n",
       " '__init_subclass__',\n",
       " '__le__',\n",
       " '__lt__',\n",
       " '__module__',\n",
       " '__ne__',\n",
       " '__new__',\n",
       " '__reduce__',\n",
       " '__reduce_ex__',\n",
       " '__repr__',\n",
       " '__setattr__',\n",
       " '__sizeof__',\n",
       " '__str__',\n",
       " '__subclasshook__',\n",
       " '__weakref__',\n",
       " '_gender',\n",
       " '_identifier',\n",
       " '_weight']"
      ]
     },
     "execution_count": 39,
     "metadata": {},
     "output_type": "execute_result"
    }
   ],
   "source": [
    "dir(oCat)"
   ]
  },
  {
   "cell_type": "markdown",
   "metadata": {},
   "source": [
    "> Note the use of the punct character, `.`, to access properties through the `oCat` instance.\n",
    ">\n",
    "> This is the same while loading a module from a Python package such as : `import matplotlob.pyplot as plt`\n",
    ">\n",
    "> `pyplot` module is a property of `matplotlib` package.\n",
    ">\n",
    "> In Python, all is object, including packages...."
   ]
  },
  {
   "cell_type": "markdown",
   "metadata": {},
   "source": [
    "### <font color='blus'>Object methods"
   ]
  },
  {
   "cell_type": "markdown",
   "metadata": {},
   "source": [
    "> Methods are what define object **behavior**. Most often, they are verbs.\n",
    ">\n",
    "> A cat meows, eat, sleep and hunts.\n",
    ">\n",
    "> Let's see how we can implement `eat` behavior. We suppose a cat appreciate mouses but not bees.\n",
    ">> For doing so, we're goint to create both, the `Mouse` class and the `Bee` class.\n",
    ">> - these classes will contain identifiers, such as `Mouse` and `Bee`\n",
    ">> - when eating one this animals, a cat is able to recognize a mosue from a bee.\n",
    ">\n",
    "> Let's implement the cat behavior we've described"
   ]
  },
  {
   "cell_type": "code",
   "execution_count": 40,
   "metadata": {},
   "outputs": [],
   "source": [
    "class Cat() :\n",
    "    '''Model of a cat.\n",
    "    The cat is suppose to appreciate eating mouses but is afraid of bees. \n",
    "    '''\n",
    "    # Initialization if an instance with default properties values.\n",
    "    def __init__(self, name='Minou', weight=5.2, speakout='miaouuu', gender='female') :\n",
    "        self._identifier = name\n",
    "        self._weight     = weight\n",
    "        self._gender     = gender\n",
    "        \n",
    "    # A cat eats some animals. Animals, in this implementation, may be a bee or a mouse.\n",
    "    def eat(self, oAnimal) :\n",
    "        if oAnimal is None :\n",
    "            print(\"Nothing to eat! An hungry cat is an angry cat.\\n\")            \n",
    "        elif 'bee' == oAnimal._category :\n",
    "            print(\"I do not appreciate {}\\n\".format(oAnimal._category))\n",
    "        elif 'mouse' == oAnimal._category :\n",
    "            print(\"I'am eating a {}\\n\".format(oAnimal._category))\n",
    "        else :\n",
    "            print(\"Unkown kind of eat! I'am still hungry!\\n\".format(oAnimal._category))\n",
    "            "
   ]
  },
  {
   "cell_type": "code",
   "execution_count": 41,
   "metadata": {},
   "outputs": [],
   "source": [
    "class Mouse():\n",
    "    '''Implement a mouse'''\n",
    "    def __init__(self) :\n",
    "        self._category = 'mouse'\n",
    "        self._weight     = 0.2\n",
    "        \n",
    "class Bee():\n",
    "    '''Implement a bee'''\n",
    "    def __init__(self) :\n",
    "        self._category = 'bees'        \n",
    "class Animal():\n",
    "    '''Use for test purpose'''\n",
    "    def __init__(self) :\n",
    "        self._category = 'animal'                "
   ]
  },
  {
   "cell_type": "markdown",
   "metadata": {},
   "source": [
    "> Let's test it"
   ]
  },
  {
   "cell_type": "raw",
   "metadata": {},
   "source": [
    "# dir(Cat)"
   ]
  },
  {
   "cell_type": "code",
   "execution_count": 42,
   "metadata": {},
   "outputs": [
    {
     "name": "stdout",
     "output_type": "stream",
     "text": [
      "Nothing to eat! An hungry cat is an angry cat.\n",
      "\n",
      "Unkown kind of eat! I'am still hungry!\n",
      "\n",
      "Unkown kind of eat! I'am still hungry!\n",
      "\n",
      "I'am eating a mouse\n",
      "\n"
     ]
    }
   ],
   "source": [
    "oCat = Cat()\n",
    "_=[oCat.eat(animal) for animal in [None, Animal(), Bee(), Mouse()]]"
   ]
  },
  {
   "cell_type": "markdown",
   "metadata": {},
   "source": [
    "> Note the semantic that raises with this example : \n",
    ">> - oCat.eat(oAnimal)\n",
    ">> - Subject --> Verb --> Object\n",
    ">\n",
    "> OOP respect natural language expressions such as french or english."
   ]
  },
  {
   "cell_type": "markdown",
   "metadata": {},
   "source": [
    "### <font color='blus'> `isinstance` for checking the type of an object"
   ]
  },
  {
   "cell_type": "markdown",
   "metadata": {},
   "source": [
    "> There is a way to identify which class an obaject belongs to."
   ]
  },
  {
   "cell_type": "code",
   "execution_count": 43,
   "metadata": {},
   "outputs": [
    {
     "data": {
      "text/plain": [
       "True"
      ]
     },
     "execution_count": 43,
     "metadata": {},
     "output_type": "execute_result"
    }
   ],
   "source": [
    "isinstance(oCat, Cat)"
   ]
  },
  {
   "cell_type": "code",
   "execution_count": 44,
   "metadata": {},
   "outputs": [
    {
     "data": {
      "text/plain": [
       "False"
      ]
     },
     "execution_count": 44,
     "metadata": {},
     "output_type": "execute_result"
    }
   ],
   "source": [
    "isinstance(oCat, Mouse)"
   ]
  },
  {
   "cell_type": "markdown",
   "metadata": {},
   "source": [
    "> The property `_category` is no more needed. Let's implement new classes."
   ]
  },
  {
   "cell_type": "code",
   "execution_count": 45,
   "metadata": {},
   "outputs": [],
   "source": [
    "class Mouse():\n",
    "    '''Implement a mouse'''\n",
    "    def __init__(self) :\n",
    "        self._weight     = 0.2\n",
    "        \n",
    "class Bee():\n",
    "    '''Implement a bee'''\n",
    "    def __init__(self) :\n",
    "        self._weight     = 0.02\n",
    "class Animal():\n",
    "    '''Use for test purpose'''\n",
    "    def __init__(self) :\n",
    "        pass"
   ]
  },
  {
   "cell_type": "code",
   "execution_count": 46,
   "metadata": {},
   "outputs": [],
   "source": [
    "class Cat() :\n",
    "    '''Model of a cat.\n",
    "    The cat is suppose to appreciate eating mouses but is afraid of bees. \n",
    "    '''\n",
    "    # Initialization if an instance with default properties values.\n",
    "    def __init__(self, name='Minou', weight=5.2, speakout='miaouuu', gender='female') :\n",
    "        self._identifier = name\n",
    "        self._weight     = weight\n",
    "        self._gender     = gender\n",
    "        \n",
    "    # A cat eats some animals. Animals, in this implementation, may be a bee or a mouse.\n",
    "    def eat(self, oAnimal) :\n",
    "        if oAnimal is None :\n",
    "            print(\"Nothing to eat! An hungry cat is an angry cat.\\n\")        \n",
    "        elif isinstance(oAnimal, Bee) :\n",
    "            print(\"I do not appreciate {}\\n\".format(type(oAnimal)))\n",
    "        elif isinstance(oAnimal, Mouse) :\n",
    "            print(\"I'am eating a {}\\n\".format(type(oAnimal)))\n",
    "            self._weight += oAnimal._weight\n",
    "        else :\n",
    "            print(\"Unkown kind of eat: {}! I'am still hungry!\\n\".format(type(oAnimal)))\n",
    "            "
   ]
  },
  {
   "cell_type": "code",
   "execution_count": 47,
   "metadata": {},
   "outputs": [
    {
     "name": "stdout",
     "output_type": "stream",
     "text": [
      "Nothing to eat! An hungry cat is an angry cat.\n",
      "\n",
      "Unkown kind of eat: <class '__main__.Animal'>! I'am still hungry!\n",
      "\n",
      "I do not appreciate <class '__main__.Bee'>\n",
      "\n",
      "I'am eating a <class '__main__.Mouse'>\n",
      "\n"
     ]
    }
   ],
   "source": [
    "oCat = Cat()\n",
    "_=[oCat.eat(animal) for animal in [None, Animal(), Bee(), Mouse()]]"
   ]
  },
  {
   "cell_type": "markdown",
   "metadata": {},
   "source": [
    "## <font color='blus'> Encapsulation"
   ]
  },
  {
   "cell_type": "markdown",
   "metadata": {},
   "source": [
    "> Encapsulation takes place with properties and methods attached to objects.\n",
    ">\n",
    "> The way we've accessed properties violate encapsulation rules. Properties may not be accessed directly."
   ]
  },
  {
   "cell_type": "markdown",
   "metadata": {},
   "source": [
    "### <font color='blus'>Object assessors"
   ]
  },
  {
   "cell_type": "markdown",
   "metadata": {},
   "source": [
    "> To encapsulate is not to make the properties of an object directly accessible.\n",
    ">\n",
    "> To do this, we use assessors to access the properties of the object. They are named **getters** and **setters**\n",
    ">\n",
    "> Access to a property triggers the call to the corresponding function (method).\n",
    ">\n",
    "> - **getters** are methods to retrieve objects properties values.\n",
    "> - **setters** are methods that modify object properties values.\n",
    ">\n",
    "> Using assessors is **strongly recommanded**. it is fully compliant with encapsulation principle.\n",
    ">\n",
    "> On the example below, while assigning cat weight, we want to forbid that a cat weight exceeds 15Kg.\n",
    ">\n",
    "> This require for us to implement methods that will update properties.\n",
    ">"
   ]
  },
  {
   "cell_type": "markdown",
   "metadata": {},
   "source": [
    "> Let's create a cat with default properties values"
   ]
  },
  {
   "cell_type": "code",
   "execution_count": 48,
   "metadata": {},
   "outputs": [],
   "source": [
    "class Cat() :\n",
    "    '''Model of a cat.\n",
    "    The cat is suppose to appreciate eating mouses but is afraid of bees. \n",
    "    '''\n",
    "    # Initialization if an instance with default properties values.\n",
    "    def __init__(self, name='Minou', weight=5.2, speakout='miaouuu', gender='female') :\n",
    "        self._identifier = name\n",
    "        self._weight     = weight\n",
    "        self._gender     = gender\n",
    "        self._maxweight  = 15.0\n",
    "        self._minweight  = 2.0\n",
    "        \n",
    "    # A cat eats some animals. Animals, in this implementation, may be a bee or a mouse.\n",
    "    def eat(self, oAnimal) :\n",
    "        if oAnimal is None :\n",
    "            print(\"Nothing to eat! An hungry cat is an angry cat.\\n\")        \n",
    "        elif isinstance(oAnimal, Bee) :\n",
    "            print(\"I do not appreciate {}\\n\".format(type(oAnimal)))\n",
    "        elif isinstance(oAnimal, Mouse) :\n",
    "            print(\"I'am eating a {}\\n\".format(type(oAnimal)))\n",
    "            self._weight += oAnimal._weight\n",
    "        else :\n",
    "            print(\"Unkown kind of eat: {}! I'am still hungry!\\n\".format(type(oAnimal)))\n",
    "        \n",
    "    def getWeight(self): \n",
    "        return self._weight\n",
    "    \n",
    "    def setWeight(self, weight): \n",
    "        if self._minweight <= weight <= self._maxweight :\n",
    "            self._weight = weight\n",
    "        else :\n",
    "            print(\"*** WARNING: maximum weight value for a cat is {}Kg\".format(self._maxweight))\n"
   ]
  },
  {
   "cell_type": "code",
   "execution_count": 49,
   "metadata": {},
   "outputs": [],
   "source": [
    "oCat = Cat()"
   ]
  },
  {
   "cell_type": "code",
   "execution_count": 50,
   "metadata": {},
   "outputs": [
    {
     "data": {
      "text/plain": [
       "5.2"
      ]
     },
     "execution_count": 50,
     "metadata": {},
     "output_type": "execute_result"
    }
   ],
   "source": [
    "oCat._weight"
   ]
  },
  {
   "cell_type": "code",
   "execution_count": 51,
   "metadata": {},
   "outputs": [
    {
     "data": {
      "text/plain": [
       "5.2"
      ]
     },
     "execution_count": 51,
     "metadata": {},
     "output_type": "execute_result"
    }
   ],
   "source": [
    "oCat.getWeight()"
   ]
  },
  {
   "cell_type": "code",
   "execution_count": 52,
   "metadata": {},
   "outputs": [
    {
     "data": {
      "text/plain": [
       "3.3"
      ]
     },
     "execution_count": 52,
     "metadata": {},
     "output_type": "execute_result"
    }
   ],
   "source": [
    "oCat.setWeight(3.3)\n",
    "oCat.getWeight()"
   ]
  },
  {
   "cell_type": "code",
   "execution_count": 53,
   "metadata": {},
   "outputs": [
    {
     "name": "stdout",
     "output_type": "stream",
     "text": [
      "*** WARNING: maximum weight value for a cat is 15.0Kg\n"
     ]
    }
   ],
   "source": [
    "oCat.setWeight(20.2)"
   ]
  },
  {
   "cell_type": "code",
   "execution_count": 54,
   "metadata": {},
   "outputs": [
    {
     "name": "stdout",
     "output_type": "stream",
     "text": [
      "*** WARNING: maximum weight value for a cat is 15.0Kg\n"
     ]
    }
   ],
   "source": [
    "oCat.setWeight(-1)"
   ]
  },
  {
   "cell_type": "markdown",
   "metadata": {},
   "source": [
    "### <font color='blus'>Exercise"
   ]
  },
  {
   "cell_type": "markdown",
   "metadata": {},
   "source": [
    "> Write a cat class with defaut values with `getWeight` and `setWeight` assessors.\n",
    ">\n",
    "> `getWeitgh` method returns a dictionary srtuctured as following \n",
    ">> - {'default' : weight_value} when weight is the default value, meaning, the value when object has been instantiated.\n",
    ">> - {'updated' : weight_value} when weight is different from the default value."
   ]
  },
  {
   "cell_type": "code",
   "execution_count": 55,
   "metadata": {},
   "outputs": [],
   "source": [
    "class Cat() :\n",
    "    '''Model of a cat.\n",
    "    The cat is suppose to appreciate eating mouses but is afraid of bees. \n",
    "    '''\n",
    "    # Initialization if an instance with default properties values.\n",
    "    def __init__(self, name='Minou', weight=5.2, speakout='miaouuu', gender='female') :\n",
    "        self._identifier = name\n",
    "        self._weight     = weight\n",
    "        self._gender     = gender\n",
    "        self._maxweight  = 15.0\n",
    "        self._minweight  = 2.0\n",
    "        self._defaultWeight = 5.2\n",
    "        \n",
    "    # A cat eats some animals. Animals, in this implementation, may be a bee or a mouse.\n",
    "    def eat(self, oAnimal) :\n",
    "        if oAnimal is None :\n",
    "            print(\"Nothing to eat! An hungry cat is an angry cat.\\n\")        \n",
    "        elif isinstance(oAnimal, Bee) :\n",
    "            print(\"I do not appreciate {}\\n\".format(type(oAnimal)))\n",
    "        elif isinstance(oAnimal, Mouse) :\n",
    "            print(\"I'am eating a {}\\n\".format(type(oAnimal)))\n",
    "            self._weight += oAnimal._weight\n",
    "        else :\n",
    "            print(\"Unkown kind of eat: {}! I'am still hungry!\\n\".format(type(oAnimal)))\n",
    "        \n",
    "    def getWeight(self): \n",
    "        if self._defaultWeight == self._weight:\n",
    "            return {'default':self._defaultWeight}\n",
    "        else :\n",
    "            return {'updated':self._weight}\n",
    "            \n",
    "    \n",
    "    def setWeight(self, weight): \n",
    "        if self._minweight <= weight <= self._maxweight :\n",
    "            self._weight = weight\n",
    "        else :\n",
    "            print(\"*** WARNING: maximum weight value for a cat is {}Kg\".format(self._maxweight))\n"
   ]
  },
  {
   "cell_type": "code",
   "execution_count": 56,
   "metadata": {},
   "outputs": [],
   "source": [
    "oCat = Cat()"
   ]
  },
  {
   "cell_type": "code",
   "execution_count": 57,
   "metadata": {},
   "outputs": [
    {
     "data": {
      "text/plain": [
       "{'default': 5.2}"
      ]
     },
     "execution_count": 57,
     "metadata": {},
     "output_type": "execute_result"
    }
   ],
   "source": [
    "oCat.getWeight()"
   ]
  },
  {
   "cell_type": "code",
   "execution_count": 58,
   "metadata": {},
   "outputs": [
    {
     "data": {
      "text/plain": [
       "{'default': 5.2}"
      ]
     },
     "execution_count": 58,
     "metadata": {},
     "output_type": "execute_result"
    }
   ],
   "source": [
    "oCat.setWeight(5.2)\n",
    "\n",
    "oCat.getWeight()"
   ]
  },
  {
   "cell_type": "code",
   "execution_count": 59,
   "metadata": {},
   "outputs": [
    {
     "data": {
      "text/plain": [
       "{'updated': 3.3}"
      ]
     },
     "execution_count": 59,
     "metadata": {},
     "output_type": "execute_result"
    }
   ],
   "source": [
    "oCat.setWeight(3.3)\n",
    "oCat.getWeight()"
   ]
  },
  {
   "cell_type": "code",
   "execution_count": 60,
   "metadata": {},
   "outputs": [
    {
     "name": "stdout",
     "output_type": "stream",
     "text": [
      "*** WARNING: maximum weight value for a cat is 15.0Kg\n"
     ]
    }
   ],
   "source": [
    "oCat.setWeight(-1)"
   ]
  },
  {
   "cell_type": "markdown",
   "metadata": {},
   "source": [
    "### <font color='blus'>Assessors with `property` builtin function"
   ]
  },
  {
   "cell_type": "markdown",
   "metadata": {},
   "source": [
    "> This is a way to set or get a property without to call the matched method, only using properties name.\n",
    ">\n",
    "> This is a way to override properties access mechanism. "
   ]
  },
  {
   "cell_type": "code",
   "execution_count": 61,
   "metadata": {},
   "outputs": [],
   "source": [
    "class Cat() :\n",
    "    '''Model of a cat.\n",
    "    The cat is suppose to appreciate eating mouses but is afraid of bees. \n",
    "    '''\n",
    "    def __init__(self, name='Minou', weight=5.2, speakout='miaouuu', gender='female') :\n",
    "        self._identifier = name\n",
    "        self._weight     = weight\n",
    "        self._gender     = gender\n",
    "        self._maxweight  = 15.0\n",
    "        self._minweight  = 2.0\n",
    "        \n",
    "    # A cat eats some animals. Animals, in this implementation, may be a bee or a mouse.\n",
    "    def eat(self, oAnimal) :\n",
    "        if oAnimal is None :\n",
    "            print(\"Nothing to eat! An hungry cat is an angry cat.\\n\")        \n",
    "        elif isinstance(oAnimal, Bee) :\n",
    "            print(\"I do not appreciate {}\\n\".format(type(oAnimal)))\n",
    "        elif isinstance(oAnimal, Mouse) :\n",
    "            print(\"I'am eating a {}\\n\".format(type(oAnimal)))\n",
    "            self._weight += oAnimal._weight\n",
    "        else :\n",
    "            print(\"Unkown kind of eat: {}! I'am still hungry!\\n\".format(type(oAnimal)))\n",
    "        \n",
    "    def getWeight(self): \n",
    "        return self._weight\n",
    "    \n",
    "    \n",
    "    def setWeight(self, weight): \n",
    "        if self._minweight <= weight <= self._maxweight :\n",
    "            self._weight = weight\n",
    "        else :\n",
    "            print(\"*** WARNING: maximum weight value for a cat is {}Kg\".format(self._maxweight))\n",
    "    \n",
    "    # Define properties over getWeight\n",
    "    weight = property(getWeight, setWeight, \"I'm the 'getWeight' property.\")"
   ]
  },
  {
   "cell_type": "code",
   "execution_count": 62,
   "metadata": {},
   "outputs": [
    {
     "data": {
      "text/plain": [
       "5.2"
      ]
     },
     "execution_count": 62,
     "metadata": {},
     "output_type": "execute_result"
    }
   ],
   "source": [
    "oCat = Cat()\n",
    "oCat.weight"
   ]
  },
  {
   "cell_type": "code",
   "execution_count": 63,
   "metadata": {},
   "outputs": [
    {
     "name": "stdout",
     "output_type": "stream",
     "text": [
      "6.5\n"
     ]
    }
   ],
   "source": [
    "oCat.weight = 6.5\n",
    "print(oCat.weight)"
   ]
  },
  {
   "cell_type": "code",
   "execution_count": 64,
   "metadata": {},
   "outputs": [
    {
     "name": "stdout",
     "output_type": "stream",
     "text": [
      "*** WARNING: maximum weight value for a cat is 15.0Kg\n",
      "6.5\n"
     ]
    }
   ],
   "source": [
    "oCat.weight = 30\n",
    "print(oCat.weight)"
   ]
  },
  {
   "cell_type": "markdown",
   "metadata": {},
   "source": [
    "> Please note the `self._weight` property rather then `self.weight`.\n",
    ">\n",
    "> This is due to the fact that using self.weight will fall in an infinite loop ineight such way :\n",
    ">> - self.weight calls\n",
    ">>> - self.weight calls\n",
    ">>>> - self.weight ...\n",
    ">\n",
    "> "
   ]
  },
  {
   "cell_type": "markdown",
   "metadata": {},
   "source": [
    "## <font color='blus'>Abstraction"
   ]
  },
  {
   "cell_type": "markdown",
   "metadata": {},
   "source": [
    "> Abstraction consists of simplifying the representation of a real object.\n",
    ">\n",
    "> Modeling means adopting a simplified representation of the real world. The modeling depends on our point of view on the object, in other words, depends on the context.\n",
    ">\n",
    "> For example, a human resources application will focus on retaining only what is essential to its operation. An employee is a human being, with:\n",
    "> * a social security number\n",
    "> * his gender\n",
    "> * civil attributes (place and date of birth, residence).\n",
    ">\n",
    "> We will not retain its size, its weight, its medicals constants, which are useless attributes for our business case, describe a human being as an employee. \n",
    ">\n",
    "> For a medical application, we will retain other aspects of the human being such as his medical constants."
   ]
  },
  {
   "cell_type": "code",
   "execution_count": 65,
   "metadata": {},
   "outputs": [],
   "source": [
    "class Employee() :\n",
    "    def __init__(self) :\n",
    "        print(\"---> Initialisation de l'objet 'Employee'\")"
   ]
  },
  {
   "cell_type": "code",
   "execution_count": 66,
   "metadata": {},
   "outputs": [
    {
     "name": "stdout",
     "output_type": "stream",
     "text": [
      "---> Initialisation de l'objet 'Employee'\n"
     ]
    }
   ],
   "source": [
    "oEmployee = Employee()"
   ]
  },
  {
   "cell_type": "markdown",
   "metadata": {},
   "source": [
    "### <font color='blus'>Properties"
   ]
  },
  {
   "cell_type": "markdown",
   "metadata": {},
   "source": [
    "> These are values assigned to an object\n",
    ">\n",
    "> For example, for a employee recorded in public registers, his social security number and his name."
   ]
  },
  {
   "cell_type": "code",
   "execution_count": 67,
   "metadata": {},
   "outputs": [],
   "source": [
    "class Employee() :\n",
    "    def __init__(self, sn:str, name:str) -> None:\n",
    "        print(\"---> Initialisation de l'objet 'Employee'\")\n",
    "        self._sn = sn\n",
    "        self._name = name"
   ]
  },
  {
   "cell_type": "code",
   "execution_count": 68,
   "metadata": {},
   "outputs": [
    {
     "name": "stdout",
     "output_type": "stream",
     "text": [
      "---> Initialisation de l'objet 'Employee'\n"
     ]
    }
   ],
   "source": [
    "oEmployee = Employee('1234Q897', 'John Smith')"
   ]
  },
  {
   "cell_type": "markdown",
   "metadata": {},
   "source": [
    "### <font color='blus'> Methods"
   ]
  },
  {
   "cell_type": "markdown",
   "metadata": {},
   "source": [
    "> A method implements a **behaviour** of an object.\n",
    ">\n",
    "> For example an employee is working on a project.\n",
    ">\n",
    "> To illustrate this, we will assign the employee a datascience project."
   ]
  },
  {
   "cell_type": "code",
   "execution_count": 69,
   "metadata": {},
   "outputs": [],
   "source": [
    "class Employee() :\n",
    "    def __init__(self, sn:str, name:str) -> None:\n",
    "        print(\"---> Initialisation de l'objet 'Employee'\")\n",
    "        self._sn = sn\n",
    "        self._name = name\n",
    "    def work(self) :\n",
    "        return \"I work on a Computer vision project\""
   ]
  },
  {
   "cell_type": "code",
   "execution_count": 70,
   "metadata": {},
   "outputs": [
    {
     "name": "stdout",
     "output_type": "stream",
     "text": [
      "---> Initialisation de l'objet 'Employee'\n"
     ]
    },
    {
     "data": {
      "text/plain": [
       "'I work on a Computer vision project'"
      ]
     },
     "execution_count": 70,
     "metadata": {},
     "output_type": "execute_result"
    }
   ],
   "source": [
    "oEmployee2 = Employee('123TB897', 'John Elton')\n",
    "oEmployee2.work()"
   ]
  },
  {
   "cell_type": "markdown",
   "metadata": {},
   "source": [
    "## <font color='blus'>Specials methods"
   ]
  },
  {
   "cell_type": "markdown",
   "metadata": {},
   "source": [
    "> Special methods are used to encapsulate the behavior of an object.\n",
    ">\n",
    "> `__init__` is one such method. By convention, special methods start and end with the character sequence `__`.\n",
    ">\n",
    "> For example, we want `print(oCar)` to return the characteristics of a car. We will use the special method `__str__`."
   ]
  },
  {
   "cell_type": "code",
   "execution_count": 71,
   "metadata": {},
   "outputs": [
    {
     "name": "stdout",
     "output_type": "stream",
     "text": [
      "---> Initialisation de l'objet 'Employee'\n",
      "<__main__.Employee object at 0x7fbfa8489cd0>\n"
     ]
    }
   ],
   "source": [
    "print(Employee('a','b'))"
   ]
  },
  {
   "cell_type": "code",
   "execution_count": 72,
   "metadata": {},
   "outputs": [],
   "source": [
    "class Vehicle() :\n",
    "    def __init__(self, name:str, wheel:int) ->None :\n",
    "        self._name = name\n",
    "        self._wheel = wheel\n",
    "    def __str__(self) :\n",
    "        '''Special method that prints all properties (attributes) values assigned to an object.'''\n",
    "        str_attr1 =  \"Vehicle name is `{}` \".format(self._name) \n",
    "        str_attr2 =  \"with a number of wheels = {}\\n\".format(self._wheel)\n",
    "        return str_attr1 + str_attr2\n",
    "    "
   ]
  },
  {
   "cell_type": "code",
   "execution_count": 73,
   "metadata": {},
   "outputs": [
    {
     "name": "stdout",
     "output_type": "stream",
     "text": [
      "Vehicle name is `bicycle` with a number of wheels = 2\n",
      "\n"
     ]
    }
   ],
   "source": [
    "oVehicle = Vehicle('bicycle',2)\n",
    "print(oVehicle)"
   ]
  },
  {
   "cell_type": "code",
   "execution_count": 74,
   "metadata": {},
   "outputs": [
    {
     "name": "stdout",
     "output_type": "stream",
     "text": [
      "<__main__.Cat object at 0x7fbfa40090a0>\n"
     ]
    }
   ],
   "source": [
    "print(oCat)"
   ]
  },
  {
   "cell_type": "markdown",
   "metadata": {},
   "source": [
    "> We could defile the operation `+` between two objects. It consists of merging all properties of 2 Vehicles. \n",
    ">\n",
    "> Special method related to `+` is `__add__`"
   ]
  },
  {
   "cell_type": "code",
   "execution_count": 75,
   "metadata": {},
   "outputs": [],
   "source": [
    "class Vehicle() :\n",
    "    def __init__(self, name:str, wheel:int) ->None :\n",
    "        self._name = name\n",
    "        self._wheel = wheel\n",
    "    def __str__(self) :\n",
    "        '''Special method that prints all properties (attributes) values assigned to an object.'''\n",
    "        str_attr1 =  \"Name   = {}\\n\".format(self._name) \n",
    "        str_attr2 =  \"Wheels = {}\".format(self._wheel)\n",
    "        return str_attr1 + str_attr2\n",
    "    \n",
    "    def __add__(self, oVehicle:Vehicle) -> Vehicle :\n",
    "        '''Returns a new object of type Vehicle which have all properties added.'''\n",
    "        name = oVehicle._name\n",
    "        wheel = oVehicle._wheel\n",
    "        \n",
    "        addedName = self._name + '+' + name\n",
    "        addedWheel = self._wheel + wheel\n",
    "        return Vehicle(addedName, addedWheel)"
   ]
  },
  {
   "cell_type": "code",
   "execution_count": 76,
   "metadata": {},
   "outputs": [
    {
     "name": "stdout",
     "output_type": "stream",
     "text": [
      "Name   = Bycycle+Unicycle\n",
      "Wheels = 3\n"
     ]
    }
   ],
   "source": [
    "oVehicle1 = Vehicle('Bycycle', 2)\n",
    "oVehicle2 = Vehicle('Unicycle', 1)\n",
    "oVehicle3 = oVehicle1 + oVehicle2\n",
    "print(oVehicle3)"
   ]
  },
  {
   "cell_type": "markdown",
   "metadata": {},
   "source": [
    "> For an exhaustive list of special methods:\n",
    "> - https://nbhosting.inria.fr/builds/python-slides/handouts/latest/6-2-dunder-specials.html    "
   ]
  },
  {
   "cell_type": "markdown",
   "metadata": {},
   "source": [
    "## <font color='blus'>Exercice : modeling cats population increase"
   ]
  },
  {
   "cell_type": "markdown",
   "metadata": {},
   "source": [
    "> A **male cat** and **female cat** meet and generate some kittens\n",
    ">\n",
    "> - The number of kittens is a random integer value included between 1 and 5\n",
    "> - Each kitten weight is a random float value between 0.3Kg and 0.6 Kg \n",
    ">\n",
    "> Let's implement it !\n",
    ">\n",
    "*Help : np_randint = np.random.randint(10, 30, 4)*\n",
    "\n",
    "\n",
    "*mu, sigma = 0, 0.1 # mean and standard deviation *\n",
    "\n",
    "*s = np.random.normal(mu, sigma, 1000)*"
   ]
  },
  {
   "cell_type": "code",
   "execution_count": 77,
   "metadata": {},
   "outputs": [],
   "source": [
    "import numpy as np\n",
    "mu, sigma = 0.5, 0.2 # mean and standard deviation\n",
    "s = np.random.normal(mu, sigma, 1000)"
   ]
  },
  {
   "cell_type": "code",
   "execution_count": 78,
   "metadata": {},
   "outputs": [
    {
     "data": {
      "text/plain": [
       "(-0.21316950198449636, 1.0854619302691457)"
      ]
     },
     "execution_count": 78,
     "metadata": {},
     "output_type": "execute_result"
    }
   ],
   "source": [
    "s.min(), s.max()"
   ]
  },
  {
   "cell_type": "code",
   "execution_count": 79,
   "metadata": {},
   "outputs": [
    {
     "data": {
      "text/plain": [
       "array([0.52776437, 0.66473787, 0.24714162, 0.5191242 , 0.66295114,\n",
       "       0.48250441, 0.49596736, 0.48794247, 0.61306188, 0.61513376,\n",
       "       0.69876394, 0.52224583, 0.7114447 , 0.26027677, 0.33482172,\n",
       "       0.59626525, 0.66670911, 0.44652642, 0.31920693, 0.40053852,\n",
       "       0.63966855, 0.35630077, 0.72901623, 0.61955411, 0.73669892,\n",
       "       0.48546763, 0.40623133, 0.61749399, 0.43598481, 0.64468608,\n",
       "       0.50726273, 0.76898062, 0.42444013, 0.26709342, 0.42819431,\n",
       "       0.55487716, 0.39115984, 0.8209442 , 0.18555303, 0.79823229,\n",
       "       0.41710211, 0.66109132, 0.81542307, 0.13247283, 0.22754206,\n",
       "       0.30962834, 0.19720089, 0.5268391 , 0.64877715, 0.07932057,\n",
       "       0.43433327, 0.62262384, 0.39686424, 0.49421985, 0.57026568,\n",
       "       0.40828852, 0.27509204, 0.44081288, 0.75536317, 0.48487311,\n",
       "       0.50593804, 0.30109781, 0.04323569, 0.282988  , 0.37088257,\n",
       "       0.32305112, 0.67286757, 0.21793847, 0.32300804, 0.68171167,\n",
       "       0.57258917, 0.73957694, 0.2586087 , 0.45354604, 0.41344169,\n",
       "       0.63153381, 0.40029499, 0.40627755, 0.83072777, 0.59059624,\n",
       "       0.4991175 , 0.43053514, 0.23120394, 0.58494746, 0.59477988,\n",
       "       0.72456533, 0.40391076, 0.56263534, 0.35912269, 0.61841926,\n",
       "       0.44496539, 0.80747758, 0.62982202, 0.12378638, 0.37789247,\n",
       "       0.35530894, 0.57640305, 0.65440793, 0.57517051, 0.28275988,\n",
       "       0.76219773, 0.48017476, 0.57731704, 0.36085784, 0.55654125,\n",
       "       0.6104466 , 0.55505435, 0.42686455, 0.46528782, 0.53823088,\n",
       "       0.58589838, 0.50788237, 0.43489736, 0.53895718, 0.69676995,\n",
       "       0.47177761, 0.42433913, 0.30916943, 0.47132782, 0.84012576,\n",
       "       0.31460757, 0.60270852, 0.79567737, 0.56248754, 0.39760906,\n",
       "       0.19130438, 0.39912774, 0.66612893, 0.49671921, 0.67822449,\n",
       "       0.24023159, 0.23475793, 0.70609672, 0.45822317, 0.88884624,\n",
       "       0.59165039, 0.73171096, 0.27109274, 0.56803908, 0.23210032,\n",
       "       0.59115079, 0.43426948, 0.63771183, 0.48438686, 0.57411009,\n",
       "       0.16421513, 0.88901097, 0.31775416, 0.33836363, 0.21232302,\n",
       "       0.56308532, 0.42660237, 0.4314265 , 0.62647693, 0.5973892 ,\n",
       "       0.45722037, 0.11429073, 0.36322655, 0.34592317, 0.48247749,\n",
       "       0.92469083, 0.71650712, 0.23752179, 0.3664556 , 0.51903502,\n",
       "       0.5720328 , 0.51537495, 0.53927254, 0.21658017, 0.50164633,\n",
       "       0.35903931, 0.16093072, 0.59440589, 0.29781113, 0.63494967,\n",
       "       0.7094712 , 0.69989478, 0.45598135, 0.4632068 , 0.64559841,\n",
       "       0.54954348, 0.47061737, 0.36953401, 0.53465513, 0.52262903,\n",
       "       0.3285152 , 0.60030828, 0.5656586 , 0.34317675, 0.90970776,\n",
       "       0.79548957, 0.82993596, 0.52300371, 0.62326404, 0.6248564 ,\n",
       "       0.74098477, 0.60239311, 0.6326263 , 0.42896673, 0.68635863,\n",
       "       0.65386106, 0.43658638, 0.5229374 , 0.5625011 , 0.62650911,\n",
       "       0.74279022, 0.38797841, 0.57522704, 0.54050481, 0.76803129,\n",
       "       0.20034158, 0.25584291, 0.68679619, 0.47963346, 0.47394002,\n",
       "       0.68315628, 0.36618786, 0.39313681, 0.90778603, 0.42221196,\n",
       "       0.33881291, 0.32217626, 0.43928198, 0.522146  , 0.76234239,\n",
       "       1.0484948 , 0.56982352, 0.77976913, 0.49251041, 0.7712298 ,\n",
       "       0.51850751, 0.76221602, 0.41655649, 0.34539653, 0.59275036,\n",
       "       0.21103423, 0.45797407, 0.85716204, 0.54804927, 0.58101455,\n",
       "       0.14964893, 0.68173892, 0.51901117, 0.78447619, 0.40998775,\n",
       "       0.52286754, 0.63696937, 0.26693541, 0.6934824 , 0.85969963,\n",
       "       0.47963427, 0.99040334, 0.09582424, 0.34271575, 0.48457816,\n",
       "       0.51604853, 0.4960367 , 0.17181821, 0.30296013, 0.21025407,\n",
       "       0.53764458, 0.36212926, 0.62191274, 0.49721511, 0.53099531,\n",
       "       0.58740118, 0.60334898, 0.35242071, 0.2737974 , 0.34679971,\n",
       "       0.39559794, 0.04041326, 0.70074316, 0.50850999, 0.43314793,\n",
       "       0.36452435, 0.30230589, 0.88262907, 0.54203546, 0.39763997,\n",
       "       0.594825  , 0.2979874 , 0.07054659, 0.44251953, 0.60655127,\n",
       "       0.73260841, 0.73516127, 0.42136495, 0.61790064, 0.54511482,\n",
       "       0.78821889, 0.23298704, 0.69000355, 0.36610171, 0.24560107,\n",
       "       0.34099413, 0.67902951, 0.38865852, 0.83124018, 0.69069412,\n",
       "       0.59442973, 0.46318513, 0.29215467, 0.66948263, 0.09590848,\n",
       "       0.41314708, 0.63522412, 0.86434036, 0.45383747, 0.54817015,\n",
       "       0.61156505, 0.7472497 , 0.21572785, 0.20939954, 0.14611346,\n",
       "       0.5909344 , 0.20358242, 0.36884824, 0.67456467, 0.19467513,\n",
       "       0.61340084, 0.50564705, 0.52567745, 0.55960665, 0.33039785,\n",
       "       0.38928091, 0.5259003 , 0.47159226, 0.56001705, 0.55726368,\n",
       "       0.60047021, 0.51688677, 0.3349497 , 0.29192738, 0.49197714,\n",
       "       0.06233776, 0.56761832, 0.4417638 , 0.80422977, 0.73083232,\n",
       "       0.54954333, 0.51822767, 0.37500993, 0.43286941, 0.5511084 ,\n",
       "       0.63689342, 0.63359839, 0.42484472, 0.69986988, 0.52707818,\n",
       "       0.34876789, 0.55909578, 0.65636618, 0.52677015, 0.70705711,\n",
       "       0.51950016, 0.77064084, 0.77884441, 0.19440126, 0.41775842,\n",
       "       0.43478635, 0.44762518, 0.85626456, 0.59616726, 0.43980017,\n",
       "       0.66780622, 0.47033146, 0.2198564 , 0.48008864, 0.46088899,\n",
       "       0.19128186, 0.38943875, 0.52537794, 0.3375141 , 0.62465124,\n",
       "       0.73748728, 0.27608433, 0.61136635, 0.5984919 , 0.25976378,\n",
       "       0.44927519, 0.82232504, 0.76405134, 0.31378357, 0.52314459,\n",
       "       0.34529368, 0.37841082, 0.35174455, 0.44582167, 0.25705451,\n",
       "       0.5967008 , 0.22321074, 0.55291752, 0.30376773, 0.60849567,\n",
       "       0.72192528, 0.35208143, 0.77829686, 0.51763267, 0.82008261,\n",
       "       0.52276331, 0.10146786, 0.41534256, 0.24544925, 0.94687496,\n",
       "       0.84338685, 0.06688245, 0.58432495, 0.65728279, 0.49833408,\n",
       "       0.25776191, 0.56695114, 0.78678797, 0.4203993 , 0.32990246,\n",
       "       0.51569367, 0.50553509, 0.60831561, 0.68620186, 0.46811871,\n",
       "       0.25570027, 0.72031357, 0.64657168, 0.93344418, 0.2110097 ,\n",
       "       0.31909725, 0.65196903, 0.62231216, 0.51578641, 0.60659958,\n",
       "       0.89591053, 0.69226871, 0.51196161, 0.49110844, 0.25060037,\n",
       "       0.32471185, 0.70770567, 0.72425297, 0.22701695, 0.55048666,\n",
       "       0.00956528, 0.10312937, 0.51905859, 0.48562995, 0.55767194,\n",
       "       0.38236157, 0.49877442, 0.5940528 , 0.33140331, 0.26600042,\n",
       "       0.59693388, 0.72728441, 0.60042639, 0.59536949, 0.56995274,\n",
       "       0.6242684 , 0.24582847, 0.71235776, 0.41262057, 0.439629  ,\n",
       "       0.54870307, 0.42339947, 0.35984534, 0.55881354, 0.18972783,\n",
       "       0.3516035 , 0.55312946, 0.41910556, 0.78733946, 0.44577363,\n",
       "       0.86434039, 0.51067837, 0.63816199, 0.34927519, 0.56494784,\n",
       "       0.45004913, 0.15065812, 0.3106833 , 0.56988834, 0.59152132,\n",
       "       0.3372161 , 0.54742779, 0.67515665, 0.36818757, 0.55764749,\n",
       "       0.48141755, 0.46030613, 0.26571775, 0.6593686 , 0.51185645,\n",
       "       0.98144746, 0.35132628, 0.53070905, 0.49806549, 0.32632301,\n",
       "       0.05606652, 0.47184347, 0.51754238, 0.61290743, 0.71005998,\n",
       "       0.31879783, 0.74031966, 0.4648783 , 0.22111409, 0.6636469 ,\n",
       "       0.51751307, 0.62192517, 0.60479116, 0.56713996, 0.30852375,\n",
       "       0.60975334, 0.65911789, 0.40655711, 0.26541667, 0.19995513,\n",
       "       0.19637993, 0.55421825, 0.53562978, 0.35942605, 0.18115846,\n",
       "       0.48414883, 0.36317973, 0.66610774, 0.39219959, 0.48109986,\n",
       "       0.21892553, 0.43198336, 0.38295491, 0.52304444, 0.69186657,\n",
       "       0.45892737, 0.36433458, 0.57839185, 0.581312  , 0.45929806,\n",
       "       0.80233387, 0.70500197, 0.31830559, 0.8004927 , 0.84413831,\n",
       "       0.6948076 , 0.62111329, 0.07853606, 0.2524515 , 0.52708262,\n",
       "       0.38223492, 0.31018254, 0.64043703, 0.25804029, 0.32515879,\n",
       "       0.71319123, 0.23823956, 0.55608822, 0.55530401, 0.54529683,\n",
       "       0.25319367, 0.4078259 , 0.55417557, 0.22956859, 0.39549962,\n",
       "       0.29042973, 0.58365219, 0.13664202, 0.53760881, 0.4337145 ,\n",
       "       0.43011264, 0.59747754, 0.70698292, 0.93955403, 0.67873708,\n",
       "       0.51401213, 0.64586956, 0.63844927, 0.85831501, 0.67120632,\n",
       "       0.72308645, 0.5322016 , 0.45805718, 0.61834609, 0.33839012,\n",
       "       0.52220008, 0.6272326 , 0.51598573, 0.35476145, 0.84716437,\n",
       "       0.3614582 , 0.48149211, 0.71006035, 0.48326974, 0.80164092,\n",
       "       0.50136258, 0.8290291 , 0.48654724, 1.01186888, 0.44487551,\n",
       "       0.43218508, 0.20709674, 0.35066584, 0.42777198, 0.43428856,\n",
       "       0.40765848, 0.04326506, 0.44858432, 0.37928101, 0.54863487,\n",
       "       0.32915234, 0.6354467 , 0.52214455, 0.47098475, 0.56024861,\n",
       "       0.77961901, 0.66622064, 0.62561449, 0.4627715 , 0.65249305,\n",
       "       0.7814569 , 0.57954625, 0.74860919, 0.55005006, 0.30152446,\n",
       "       0.49663123, 0.4050605 , 0.49854284, 0.43485782, 0.51242648,\n",
       "       0.28316412, 0.5046463 , 0.55311099, 0.21274894, 0.79702431,\n",
       "       0.47046126, 0.16736814, 0.69538623, 0.40845737, 0.48116003,\n",
       "       0.76424412, 0.56097507, 0.79840324, 0.9659223 , 0.75982261,\n",
       "       0.17948492, 0.78640339, 0.44821649, 0.64162189, 0.29742121,\n",
       "       0.75729076, 0.70741757, 0.64560936, 0.20788703, 0.27986046,\n",
       "       0.39514818, 0.22565761, 0.65306944, 0.75453752, 0.46257839,\n",
       "       0.0191464 , 0.37695741, 0.49991127, 0.586567  , 0.05094664,\n",
       "       0.8054426 , 0.35889256, 0.37301498, 0.57543112, 0.38176521,\n",
       "       0.7361391 , 0.49100364, 0.7558194 , 0.30343959, 0.51798271,\n",
       "       0.58722534, 0.40457009, 0.32403161, 0.17588245, 0.39077787,\n",
       "       0.47593521, 0.30389688, 0.75047584, 0.79609834, 0.41390732,\n",
       "       0.38390756, 0.35935997, 0.13376727, 0.5373038 , 0.59077454,\n",
       "       0.57064374, 0.22485427, 0.59685972, 0.34325537, 0.57478476,\n",
       "       0.45437976, 0.26936496, 0.53379691, 0.66453299, 0.27633248,\n",
       "       0.30306762, 0.47350856, 0.55744312, 0.52601925, 0.90814842,\n",
       "       0.84581415, 0.61576186, 0.16923348, 0.60070824, 0.27878262,\n",
       "       0.49100625, 0.51637623, 0.50897077, 0.59301001, 0.62691258,\n",
       "       0.12380276, 0.81146836, 0.36930986, 0.65904629, 0.66861121,\n",
       "       0.6290093 , 0.59329857, 0.39963158, 0.58359417, 0.29709692,\n",
       "       0.55748524, 0.39532027, 0.59650755, 0.49568303, 0.51582438,\n",
       "       0.37400883, 0.55166572, 0.58498663, 1.0453581 , 0.27586856,\n",
       "       0.44031905, 0.46699437, 0.8410706 , 0.56043886, 0.09290608,\n",
       "       0.6141018 , 0.70718725, 0.34668403, 0.5493235 , 0.56127855,\n",
       "       0.56857931, 0.86597036, 0.71808719, 0.66077424, 0.43963844,\n",
       "       0.23227838, 0.47214063, 0.12159521, 0.83493905, 0.3286352 ,\n",
       "       0.47449138, 0.28942761, 0.58124346, 0.5584087 , 0.64002276,\n",
       "       0.53501689, 0.52900392, 0.46847022, 0.36817727, 0.7703948 ,\n",
       "       0.70917967, 0.65361013, 0.12420707, 0.36244062, 0.45952098,\n",
       "       0.09522901, 0.21512688, 0.70822253, 0.96111713, 0.40743124,\n",
       "       0.31747733, 0.21372542, 0.41558297, 0.68977735, 0.56737425,\n",
       "       0.75082341, 0.52451887, 0.62405834, 0.53162383, 0.74432204,\n",
       "       0.26219489, 0.04153768, 0.45864752, 0.03809958, 0.52342126,\n",
       "       0.43086718, 0.8681858 , 0.54439151, 0.81953157, 0.20817849,\n",
       "       0.22529492, 0.20738086, 0.21229002, 0.43370596, 0.23060155,\n",
       "       0.697932  , 0.61421061, 0.52285706, 0.53477116, 0.74832959,\n",
       "       0.80531564, 0.43579854, 0.42491608, 0.35313362, 0.56451346,\n",
       "       0.43973301, 0.58934076, 0.26969594, 0.30493582, 0.79607441,\n",
       "       0.60930579, 0.60990532, 0.06980003, 0.34812703, 0.5082347 ,\n",
       "       0.48669281, 0.69266077, 0.14896055, 0.06359098, 0.7486551 ,\n",
       "       0.34953621, 0.52900067, 0.35056131, 0.84189573, 0.64461421,\n",
       "       0.56683828, 0.66782307, 0.50469062, 0.73971198, 0.1530223 ,\n",
       "       0.51761455, 0.37186233, 0.71135897, 0.30331916, 0.67994434,\n",
       "       0.38360006, 0.49068521, 0.56308791, 0.03370358, 0.54314772,\n",
       "       0.81865346, 0.14066218, 0.5681477 , 0.75877448, 0.57876173,\n",
       "       0.36445877, 0.64402369, 0.38203276, 0.85426556, 0.25761513,\n",
       "       0.1998716 , 0.44288563, 0.78343434, 0.05806462, 0.60823869,\n",
       "       0.51429695, 0.6542497 , 0.42940341, 0.53893371, 0.55847486,\n",
       "       0.58692705, 0.8349861 , 0.3019998 , 0.3869905 , 0.41983613,\n",
       "       0.58500113, 0.48181285, 0.44556727, 0.54471113, 0.24157307,\n",
       "       0.44390533, 0.4263748 , 0.61701306, 0.43089039, 0.75080135,\n",
       "       0.44309846, 0.57115131, 0.17480109, 0.73421616, 0.36239623,\n",
       "       0.55434208, 0.51180329, 0.37035977, 0.57185957, 0.0023061 ,\n",
       "       0.85826141, 0.58082563, 0.80938424, 0.45070247, 0.54807856,\n",
       "       0.5138466 , 0.40538858, 0.5970408 , 0.36182501, 0.95728958,\n",
       "       0.71545344, 0.67256408, 0.25304818, 0.74346212, 0.78546259,\n",
       "       1.08546193, 0.61246014, 0.54048384, 0.34283144, 0.26911574,\n",
       "       0.24695583, 0.50690666, 0.41882897, 0.56371972, 0.68620234,\n",
       "       0.00376767, 0.72868824, 0.4812007 , 0.69010159, 0.53291091,\n",
       "       0.47890274, 0.53304713, 0.30956893, 0.44791974, 0.33645572,\n",
       "       0.48909075, 0.78355677, 0.79464927, 0.52613504, 0.43745923,\n",
       "       0.54069584, 0.36728   , 0.55739068, 0.85234912, 0.7530085 ,\n",
       "       0.14935022, 0.2449273 , 0.68196082, 0.61145308, 0.47073807,\n",
       "       0.39820598, 0.62112742, 0.23749352, 0.34346495, 0.21801502,\n",
       "       0.81392778, 0.38518107, 0.35743982, 0.30496074, 0.6867552 ,\n",
       "       0.77318621, 0.24463786, 0.48832772, 0.59633694, 0.43263998,\n",
       "       0.71843218, 0.47977845, 0.55168406, 0.38898301, 0.06503801,\n",
       "       0.72302105, 0.56627526, 0.54533601, 0.70611727, 0.76127516,\n",
       "       0.61867842, 0.4137457 , 0.33648324, 0.35320449, 0.51444627,\n",
       "       0.40068699, 0.22511264, 0.75295734, 0.29348636, 0.37872823,\n",
       "       0.55782517, 0.26535251, 0.69803175, 0.4408996 , 0.61740484,\n",
       "       0.58779256, 0.4526417 , 0.47644773, 0.63903849, 0.93371864,\n",
       "       0.58562048, 0.41300779, 0.09474662, 0.30987874, 0.68964061,\n",
       "       0.66963376, 0.56480435, 0.51742045, 0.33317385, 0.52575067,\n",
       "       0.14368579, 0.6269947 , 0.44132826, 0.58086416, 0.69711753,\n",
       "       0.77359571])"
      ]
     },
     "execution_count": 79,
     "metadata": {},
     "output_type": "execute_result"
    }
   ],
   "source": [
    "s[s>0.]"
   ]
  },
  {
   "cell_type": "code",
   "execution_count": 80,
   "metadata": {},
   "outputs": [],
   "source": [
    "import random \n",
    "class Cat() :\n",
    "    '''Model of a cat.\n",
    "    The cat is suppose to appreciate eating mouses but is afraid of bees. \n",
    "    '''\n",
    "    def __init__(self, name='Minou', weight=5.2, speakout='miaouuu', gender='female') :\n",
    "        self._identifier = name\n",
    "        self._weight     = weight\n",
    "        self._gender     = gender\n",
    "        self._maxweight  = 15.0\n",
    "        self._minweight  = 2.0\n",
    "        \n",
    "    # A cat eats some animals. Animals, in this implementation, may be a bee or a mouse.\n",
    "    def eat(self, oAnimal) :\n",
    "        if oAnimal is None :\n",
    "            print(\"Nothing to eat! An hungry cat is an angry cat.\\n\")        \n",
    "        elif isinstance(oAnimal, Bee) :\n",
    "            print(\"I do not appreciate {}\\n\".format(type(oAnimal)))\n",
    "        elif isinstance(oAnimal, Mouse) :\n",
    "            print(\"I'am eating a {}\\n\".format(type(oAnimal)))\n",
    "            self._weight += oAnimal._weight\n",
    "        else :\n",
    "            print(\"Unkown kind of eat: {}! I'am still hungry!\\n\".format(type(oAnimal)))\n",
    "        \n",
    "    def getWeight(self): \n",
    "        return self._weight\n",
    "    def __str__(self) :\n",
    "        return self._identifier\n",
    "    \n",
    "    def setWeight(self, weight): \n",
    "        if self._minweight <= weight <= self._maxweight :\n",
    "            self._weight = weight\n",
    "        else :\n",
    "            print(\"*** WARNING: maximum weight value for a cat is {}Kg\".format(self._maxweight))\n",
    "    def __add__(self, oCat) :\n",
    "        nb_kitten = random.randint(0,10)\n",
    "        list_oCat = list()\n",
    "        if self._gender != oCat._gender :\n",
    "            list_oCat = [Cat(name=\"Kitten#\"+str(idx+1)) for idx,cat in enumerate(range(nb_kitten))]\n",
    "        return list_oCat\n",
    "        \n",
    "    # Define properties over getWeight\n",
    "    weight = property(getWeight, setWeight, \"I'm the 'getWeight' property.\")"
   ]
  },
  {
   "cell_type": "code",
   "execution_count": 81,
   "metadata": {},
   "outputs": [],
   "source": [
    "oCatMale   = Cat(gender='male')\n",
    "oCatFemale = Cat(gender='female')"
   ]
  },
  {
   "cell_type": "code",
   "execution_count": 82,
   "metadata": {},
   "outputs": [
    {
     "name": "stdout",
     "output_type": "stream",
     "text": [
      "Kitten#1\n",
      "Kitten#2\n",
      "Kitten#3\n",
      "Kitten#4\n",
      "Kitten#5\n",
      "Kitten#6\n"
     ]
    }
   ],
   "source": [
    "for oCatKitten in oCatMale+oCatFemale :\n",
    "    print(oCatKitten)"
   ]
  },
  {
   "cell_type": "code",
   "execution_count": 83,
   "metadata": {},
   "outputs": [],
   "source": [
    "oCatMale   = Cat(gender='female')\n",
    "oCatFemale = Cat(gender='female')"
   ]
  },
  {
   "cell_type": "code",
   "execution_count": 84,
   "metadata": {},
   "outputs": [],
   "source": [
    "for oCatKitten in oCatMale+oCatFemale :\n",
    "    print(oCatKitten)"
   ]
  },
  {
   "cell_type": "code",
   "execution_count": 85,
   "metadata": {},
   "outputs": [],
   "source": [
    "try :\n",
    "    list_kitten = oCatMale + oCatFemale\n",
    "except Exception as exception :\n",
    "    print(\"*** ERROR : {}\".format(exception))"
   ]
  },
  {
   "cell_type": "markdown",
   "metadata": {},
   "source": [
    "## <font color='blus'>The inheritance"
   ]
  },
  {
   "cell_type": "markdown",
   "metadata": {},
   "source": [
    "> Inheritnce allows iplementation of classes taxonomies.\n",
    ">\n",
    "> For the sake of the example, a car inherites the properties of a vehicle.\n",
    ">\n",
    "> La classe `Vehicle` est une généralisation de la classe `Car` et de façon symétrique, la classe `Car` est une spécialisation de la classe `Vehicle`.\n",
    ">\n",
    "> Pour l'exemple, on considère des véhicles à roues."
   ]
  },
  {
   "cell_type": "code",
   "execution_count": 86,
   "metadata": {},
   "outputs": [],
   "source": [
    "class Vehicle() :\n",
    "    def __init__(self, name:str, wheel:int) ->None :\n",
    "        self._name = name\n",
    "        self._wheel = wheel\n",
    "\n",
    "# Car inherites from Vehicle\n",
    "class Car(Vehicle) :\n",
    "    def __init__(self, name:str, registration:str, wheel=4) :\n",
    "        super().__init__(name, wheel)\n",
    "        self._registration = registration\n"
   ]
  },
  {
   "cell_type": "code",
   "execution_count": 87,
   "metadata": {},
   "outputs": [
    {
     "data": {
      "text/plain": [
       "('4x4', 4, '298 OT 53')"
      ]
     },
     "execution_count": 87,
     "metadata": {},
     "output_type": "execute_result"
    }
   ],
   "source": [
    "oCar = Car('4x4', '298 OT 53', 4)\n",
    "oCar._name, oCar._wheel, oCar._registration"
   ]
  },
  {
   "cell_type": "markdown",
   "metadata": {},
   "source": [
    "> De la même façon on peut créer un objet Truck avec 6 roues"
   ]
  },
  {
   "cell_type": "code",
   "execution_count": 88,
   "metadata": {},
   "outputs": [
    {
     "data": {
      "text/plain": [
       "('Truck', '3455 GT 54', 6)"
      ]
     },
     "execution_count": 88,
     "metadata": {},
     "output_type": "execute_result"
    }
   ],
   "source": [
    "oTruck = Car('Truck', 6, '3455 GT 54')\n",
    "oTruck._name, oTruck._wheel, oTruck._registration"
   ]
  },
  {
   "cell_type": "markdown",
   "metadata": {},
   "source": [
    "> Les objets `oTruck` et `oCar` **héritent** des attribus de Vehicle, à savoir, `name` et `wheel`."
   ]
  },
  {
   "cell_type": "markdown",
   "metadata": {},
   "source": [
    "> En language UML, on modèlise les classes comme suit :"
   ]
  },
  {
   "attachments": {
    "HeritageVehicle.png": {
     "image/png": "[encoded data removed]"
    }
   },
   "cell_type": "markdown",
   "metadata": {},
   "source": [
    "![HeritageVehicle.png](attachment:HeritageVehicle.png)"
   ]
  },
  {
   "cell_type": "markdown",
   "metadata": {},
   "source": [
    "> L'héritage concerne aussi les méthodes, les comportements des objets."
   ]
  },
  {
   "cell_type": "code",
   "execution_count": 89,
   "metadata": {},
   "outputs": [],
   "source": [
    "class Vehicle() :\n",
    "    def __init__(self, name:str, wheel:int) ->None :\n",
    "        self._name = name\n",
    "        self._wheel = wheel\n",
    "    def fuelLevel(self) :\n",
    "        '''Computes the level of fuel in the tank and returns a percentage'''\n",
    "        return 0.5\n",
    "        \n",
    "\n",
    "# Car inherites from Vehicle\n",
    "class Car(Vehicle) :\n",
    "    def __init__(self, name:str, registration:str, wheel=4) :\n",
    "        super().__init__(name, wheel)\n",
    "        self._registration = registration"
   ]
  },
  {
   "cell_type": "code",
   "execution_count": 90,
   "metadata": {},
   "outputs": [
    {
     "data": {
      "text/plain": [
       "0.5"
      ]
     },
     "execution_count": 90,
     "metadata": {},
     "output_type": "execute_result"
    }
   ],
   "source": [
    "oCar = Car('Ford', 4)\n",
    "oCar.fuelLevel()"
   ]
  },
  {
   "cell_type": "markdown",
   "metadata": {},
   "source": [
    "> The `oCar` object has **inherited** the `fuelLevel` method, defined in `Vehicle`."
   ]
  },
  {
   "cell_type": "markdown",
   "metadata": {},
   "source": [
    "## <font color='blus'>`property()` method"
   ]
  },
  {
   "cell_type": "markdown",
   "metadata": {},
   "source": [
    "> This is a way to avoid a call for getter and setter results"
   ]
  },
  {
   "cell_type": "code",
   "execution_count": 91,
   "metadata": {},
   "outputs": [],
   "source": [
    "class Vehicle() :\n",
    "    def __init__(self, name:str, wheel:int) ->None :\n",
    "        self._name = name\n",
    "        self._wheel = wheel\n",
    "        self._fuelLevel = 0\n",
    "    def get_fuelLevel(self) :\n",
    "        '''Computes the level of fuel in the tank and returns a percentage'''\n",
    "        return self._fuelLevel\n",
    "    def set_fuelLevel(self, fuel) :\n",
    "        '''Computes the level of fuel in the tank and returns a percentage'''\n",
    "        self._fuelLevel = fuel\n",
    "\n",
    "        \n",
    "# Car inherites from Vehicle\n",
    "class Car(Vehicle) :\n",
    "    def __init__(self, name:str, registration:str, wheel=4) :\n",
    "        super().__init__(name, wheel)\n",
    "        self._registration = registration\n",
    "    def get_fuelLevel(self) :\n",
    "        return super().get_fuelLevel()\n",
    "    def set_fuelLevel(self, fuelLevel) :\n",
    "        super().set_fuelLevel(fuelLevel)\n",
    "        \n",
    "    fuelLevel = property(fget=get_fuelLevel, fset=set_fuelLevel, doc=\"Fuel level property\")\n"
   ]
  },
  {
   "cell_type": "code",
   "execution_count": 92,
   "metadata": {},
   "outputs": [
    {
     "data": {
      "text/plain": [
       "0"
      ]
     },
     "execution_count": 92,
     "metadata": {},
     "output_type": "execute_result"
    }
   ],
   "source": [
    "oCar = Car('Tessla', 4)\n",
    "oCar.get_fuelLevel()"
   ]
  },
  {
   "cell_type": "code",
   "execution_count": 93,
   "metadata": {},
   "outputs": [],
   "source": [
    "oCar.set_fuelLevel(6)"
   ]
  },
  {
   "cell_type": "code",
   "execution_count": 94,
   "metadata": {},
   "outputs": [
    {
     "data": {
      "text/plain": [
       "6"
      ]
     },
     "execution_count": 94,
     "metadata": {},
     "output_type": "execute_result"
    }
   ],
   "source": [
    "oCar.fuelLevel"
   ]
  },
  {
   "cell_type": "code",
   "execution_count": 95,
   "metadata": {},
   "outputs": [
    {
     "data": {
      "text/plain": [
       "3"
      ]
     },
     "execution_count": 95,
     "metadata": {},
     "output_type": "execute_result"
    }
   ],
   "source": [
    "oCar.fuelLevel = 3\n",
    "oCar.fuelLevel"
   ]
  },
  {
   "cell_type": "markdown",
   "metadata": {},
   "source": [
    "## <font color='blus'>Exercice (15mn)"
   ]
  },
  {
   "cell_type": "markdown",
   "metadata": {},
   "source": [
    "> Create an `Animal` class from which cats and dogs inherit.\n",
    ">\n",
    "> Find an attribute of class `Animal` that cats and dogs inherit.\n",
    ">\n",
    "> Implement the behavior of an animal which consists of a dog **barking** and a cat **meowing**."
   ]
  },
  {
   "attachments": {
    "H%C3%A9ritage.png": {
     "image/png": "[encoded data removed]"
    }
   },
   "cell_type": "markdown",
   "metadata": {},
   "source": [
    "![H%C3%A9ritage.png](attachment:H%C3%A9ritage.png)"
   ]
  },
  {
   "cell_type": "markdown",
   "metadata": {},
   "source": [
    "## <font color='blus'>Polymorphism"
   ]
  },
  {
   "cell_type": "markdown",
   "metadata": {},
   "source": [
    "> The polymorphism mechanism consists in detecting the subclass of an object and activating the method of this object."
   ]
  },
  {
   "cell_type": "code",
   "execution_count": 96,
   "metadata": {},
   "outputs": [],
   "source": [
    "class Animal() :\n",
    "    def __init__(self) :\n",
    "        pass\n",
    "    def makeSound(self) :\n",
    "        return \"To be implemented!\"\n",
    "    \n",
    "class Dog(Animal) :\n",
    "    def __init__(self) :\n",
    "        super().__init__()\n",
    "    def makeSound(self) :\n",
    "        return \"Ouaf!\"\n",
    "    \n",
    "class Cat(Animal) :\n",
    "    def __init__(self) :\n",
    "        super().__init__()\n",
    "    def makeSound(self) :\n",
    "        return \"Miaou!\""
   ]
  },
  {
   "cell_type": "code",
   "execution_count": 97,
   "metadata": {},
   "outputs": [
    {
     "data": {
      "text/plain": [
       "'To be implemented!'"
      ]
     },
     "execution_count": 97,
     "metadata": {},
     "output_type": "execute_result"
    }
   ],
   "source": [
    "animal = Animal()\n",
    "animal.makeSound()"
   ]
  },
  {
   "cell_type": "code",
   "execution_count": 98,
   "metadata": {},
   "outputs": [
    {
     "name": "stdout",
     "output_type": "stream",
     "text": [
      "Ouaf!\n"
     ]
    }
   ],
   "source": [
    "oDog = Dog()\n",
    "print(oDog.makeSound())"
   ]
  },
  {
   "cell_type": "code",
   "execution_count": 99,
   "metadata": {},
   "outputs": [
    {
     "name": "stdout",
     "output_type": "stream",
     "text": [
      "Ouaf!\n",
      "Miaou!\n"
     ]
    }
   ],
   "source": [
    "oDog = Dog()\n",
    "oCat = Cat()\n",
    "print(oDog.makeSound())\n",
    "print(oCat.makeSound())"
   ]
  },
  {
   "cell_type": "code",
   "execution_count": 100,
   "metadata": {},
   "outputs": [
    {
     "name": "stdout",
     "output_type": "stream",
     "text": [
      "Miaou!\n",
      "Ouaf!\n"
     ]
    }
   ],
   "source": [
    "list_animal = [oCat, oDog]\n",
    "for animal in list_animal :\n",
    "    print(animal.makeSound())"
   ]
  },
  {
   "cell_type": "markdown",
   "metadata": {},
   "source": [
    "> Pour mettre en évidence le polymorphisme, on utilise un objet de type `defaultdict` que l'on initialise avec la classe (le type) `Animal`.\n",
    ">\n",
    "> `ddict_animal` ne connait pas les classes concrètes des objets `Dog` et `Cat` mais cependant. Le mécanisme de polymorphisme va permettre d'activer la méthode idoine de chacun des objets dans `ddict_animal`."
   ]
  },
  {
   "cell_type": "code",
   "execution_count": 101,
   "metadata": {},
   "outputs": [
    {
     "name": "stdout",
     "output_type": "stream",
     "text": [
      "Ouaf!\n",
      "Miaou!\n"
     ]
    }
   ],
   "source": [
    "from collections import defaultdict\n",
    "ddict_animal = defaultdict(Animal) # defaultdict ne connait pas les sous classes Dog et Cat.\n",
    "ddict_animal['dog'] = oDog\n",
    "ddict_animal['cat'] = oCat\n",
    "for key, obj in ddict_animal.items() :\n",
    "    print(obj.makeSound())"
   ]
  },
  {
   "cell_type": "markdown",
   "metadata": {},
   "source": [
    "## <font color='blus'>Exercice 1"
   ]
  },
  {
   "cell_type": "markdown",
   "metadata": {},
   "source": [
    "> Create a `Vehicle` class from which bicycles and motorcycles inherit\n",
    ">\n",
    "> Find at least one attribute of the `Vehicle` class from which bicycles and motorcycles inherit.\n",
    ">\n",
    "> Implement the behavior of a vehicle which consists in returning the model of energy consumption, namely, `human` or `fossil`.\n",
    ">\n",
    "> Highlight the polymorphic character of this construction using the `defaultdict` object."
   ]
  },
  {
   "cell_type": "markdown",
   "metadata": {},
   "source": [
    "## <font color='blus'>Exercice 2"
   ]
  },
  {
   "cell_type": "markdown",
   "metadata": {},
   "source": [
    "> Write a class `MyGenerator` that implements a generator that returns the string sequences `10,20` when typing print(MyGenerator())"
   ]
  },
  {
   "cell_type": "code",
   "execution_count": 102,
   "metadata": {},
   "outputs": [],
   "source": [
    "class MyGenerator() :\n",
    "    def __init__(self) :\n",
    "        \"\"\"Generator is fine\"\"\"\n",
    "        pass\n",
    "    def gen1(self) :\n",
    "        # Returns 10 at the 1st call\n",
    "        yield 10\n",
    "        #Returns 20 at the 2nd call\n",
    "        yield 20\n",
    "        \n",
    "    def __str__(self) :\n",
    "        str_value = ''\n",
    "        \n",
    "        for value in self.gen1() :\n",
    "            str_value += str(value)+','\n",
    "        \n",
    "        return str_value[:-1]\n",
    "        \n"
   ]
  },
  {
   "cell_type": "code",
   "execution_count": 103,
   "metadata": {},
   "outputs": [
    {
     "name": "stdout",
     "output_type": "stream",
     "text": [
      "10,20\n"
     ]
    }
   ],
   "source": [
    "print(MyGenerator())"
   ]
  },
  {
   "cell_type": "markdown",
   "metadata": {},
   "source": [
    "## <font color='blus'>Exercice 3"
   ]
  },
  {
   "cell_type": "markdown",
   "metadata": {},
   "source": [
    "> Implement a new cat class behaviour with following tastes when they eat: \n",
    "> - some cat appreciate mouses only, \n",
    "> - some others appreciate both mouses and bees.\n",
    ">   \n",
    "> Create instances of cats that randomly have one of the two tastes.   "
   ]
  },
  {
   "cell_type": "markdown",
   "metadata": {},
   "source": [
    "## <font color='blus'>Exercice 4"
   ]
  },
  {
   "cell_type": "markdown",
   "metadata": {},
   "source": [
    "> Write a class, TextReader, that opens and load a text file with following specifications\n",
    "> - oTextReader.getFileContent(fileName :str) -> list\n",
    "> - len(oTextReader) returns the number of bytes from the fileName\n",
    "> - oTextReader1 + oTextReader2 that merge the content of the 2 files and dump it into a new file named fileName1__add__fileName2.txt, with :\n",
    ">> - fileName1.txt is the name of the file read by oTextReader1 object\n",
    ">> - fileName2.txt is the name of the file read by oTextReader2 object\n"
   ]
  },
  {
   "cell_type": "markdown",
   "metadata": {},
   "source": [
    "# <font color='blus'> Numpy arrays"
   ]
  },
  {
   "cell_type": "markdown",
   "metadata": {},
   "source": [
    "## <font color='blus'> multi-dimensional arrays"
   ]
  },
  {
   "cell_type": "markdown",
   "metadata": {},
   "source": [
    "### <font color='blus'> 1-D array : vector"
   ]
  },
  {
   "cell_type": "code",
   "execution_count": 104,
   "metadata": {},
   "outputs": [
    {
     "data": {
      "text/plain": [
       "(3,)"
      ]
     },
     "execution_count": 104,
     "metadata": {},
     "output_type": "execute_result"
    }
   ],
   "source": [
    "import numpy as np\n",
    "np_array = np.array([1,2,3])\n",
    "np_array.shape"
   ]
  },
  {
   "cell_type": "markdown",
   "metadata": {},
   "source": [
    " `[1,2,3]` --> *3 scalars $\\implies$ 1 vector*"
   ]
  },
  {
   "cell_type": "markdown",
   "metadata": {},
   "source": [
    "### <font color='blus'> 2-D array : matrix"
   ]
  },
  {
   "cell_type": "code",
   "execution_count": 105,
   "metadata": {},
   "outputs": [
    {
     "name": "stdout",
     "output_type": "stream",
     "text": [
      "(2, 3)\n"
     ]
    },
    {
     "data": {
      "text/plain": [
       "array([[1, 2, 3],\n",
       "       [4, 5, 6]])"
      ]
     },
     "metadata": {},
     "output_type": "display_data"
    }
   ],
   "source": [
    "import numpy as np\n",
    "np_array = np.array([[1,2,3],[4,5,6]])\n",
    "print(np_array.shape)\n",
    "display(np_array)"
   ]
  },
  {
   "cell_type": "markdown",
   "metadata": {},
   "source": [
    "> `[`\n",
    ">> `[1,2,3]` --> *3 scalars $\\implies$ 1 vector*\n",
    ">>\n",
    ">> `[4,5,6]` --> *3 scalars $\\implies$ 1 vector*\n",
    ">>\n",
    ">`]` --> *2 vectors $\\implies$ 1 matrix*\n"
   ]
  },
  {
   "cell_type": "markdown",
   "metadata": {},
   "source": [
    "### <font color='blus'> 3-D array : tensor"
   ]
  },
  {
   "cell_type": "code",
   "execution_count": 106,
   "metadata": {},
   "outputs": [],
   "source": [
    "np_array = np.array([[[1,2,3],[4,5,6]],[[7,8,9],[10,11,12]]])"
   ]
  },
  {
   "cell_type": "code",
   "execution_count": 107,
   "metadata": {},
   "outputs": [
    {
     "name": "stdout",
     "output_type": "stream",
     "text": [
      "(2, 2, 3)\n"
     ]
    },
    {
     "data": {
      "text/plain": [
       "array([[[ 1,  2,  3],\n",
       "        [ 4,  5,  6]],\n",
       "\n",
       "       [[ 7,  8,  9],\n",
       "        [10, 11, 12]]])"
      ]
     },
     "metadata": {},
     "output_type": "display_data"
    }
   ],
   "source": [
    "print(np_array.shape)\n",
    "display(np_array)"
   ]
  },
  {
   "cell_type": "markdown",
   "metadata": {},
   "source": [
    "> Blocs \n",
    ">\n",
    ">`[`\n",
    ">>\n",
    ">> `[`\n",
    ">>> `[1,2,3]` --> *3 scalars $\\implies$ 1 vector*\n",
    ">>>\n",
    ">>> `[4,5,6]`\n",
    ">>>\n",
    ">>`]` --> *2 vectors $\\implies$ 1 matrix*\n",
    ">>\n",
    ">> `[`\n",
    ">>> `[7,8,9]` --> *3 scalars $\\implies$ 1 vector*\n",
    ">>>\n",
    ">>> `[10,11,12]`\n",
    ">>>\n",
    ">>`]` --> *2 vectors $\\implies$ 1 matrix*\n",
    ">\n",
    ">`]` --> *2 matrix $\\implies$ 1 tensor*"
   ]
  },
  {
   "cell_type": "markdown",
   "metadata": {},
   "source": [
    "### <font color='blus'> Access to elements into multi-dimensional array"
   ]
  },
  {
   "cell_type": "markdown",
   "metadata": {},
   "source": [
    "> Blocs \n",
    ">\n",
    ">`[`\n",
    ">>\n",
    ">> `[`  tensor row0 $\\implies$ matrix 0\n",
    ">>> `[1,2,3]`  *matrix row0 $\\implies$ vector 0*\n",
    ">>>\n",
    ">>> `[4,5,6]` *matrix row1 $\\implies$ vector 1*\n",
    ">>>\n",
    ">>`]` \n",
    ">>\n",
    ">> `[` tensor row1$\\implies$ matrix 1\n",
    ">>> `[7,8,9]` *matrix 0 $\\implies$ vector 0*\n",
    ">>>\n",
    ">>> `[10,11,12]` *matrix 1$\\implies$ vector 1*\n",
    ">>>\n",
    ">>`]` \n",
    ">\n",
    ">`]`"
   ]
  },
  {
   "cell_type": "markdown",
   "metadata": {},
   "source": [
    "> Access tensor row 1 $\\implies$ matrix 0"
   ]
  },
  {
   "cell_type": "code",
   "execution_count": 108,
   "metadata": {},
   "outputs": [
    {
     "data": {
      "text/plain": [
       "array([[1, 2, 3],\n",
       "       [4, 5, 6]])"
      ]
     },
     "execution_count": 108,
     "metadata": {},
     "output_type": "execute_result"
    }
   ],
   "source": [
    "np_array = np.array([[[1,2,3],[4,5,6]],[[7,8,9],[10,11,12]]])\n",
    "np_array[0]"
   ]
  },
  {
   "cell_type": "markdown",
   "metadata": {},
   "source": [
    "> Access tensor row 1 $\\implies$ matrix 1"
   ]
  },
  {
   "cell_type": "code",
   "execution_count": 109,
   "metadata": {},
   "outputs": [
    {
     "data": {
      "text/plain": [
       "array([[ 7,  8,  9],\n",
       "       [10, 11, 12]])"
      ]
     },
     "execution_count": 109,
     "metadata": {},
     "output_type": "execute_result"
    }
   ],
   "source": [
    "np_array[1]"
   ]
  },
  {
   "cell_type": "markdown",
   "metadata": {},
   "source": [
    "> Access vector from one of the matrix from the tensor"
   ]
  },
  {
   "cell_type": "code",
   "execution_count": 110,
   "metadata": {},
   "outputs": [
    {
     "data": {
      "text/plain": [
       "array([10, 11, 12])"
      ]
     },
     "execution_count": 110,
     "metadata": {},
     "output_type": "execute_result"
    }
   ],
   "source": [
    "np_array[1,1]"
   ]
  },
  {
   "cell_type": "markdown",
   "metadata": {},
   "source": [
    "> Access scalaire from a vector inside matrix that is inside a tensor"
   ]
  },
  {
   "cell_type": "code",
   "execution_count": 111,
   "metadata": {},
   "outputs": [
    {
     "data": {
      "text/plain": [
       "12"
      ]
     },
     "execution_count": 111,
     "metadata": {},
     "output_type": "execute_result"
    }
   ],
   "source": [
    "np_array[1,1,2]"
   ]
  },
  {
   "cell_type": "markdown",
   "metadata": {},
   "source": [
    "### <font color='blus'> Traversing an array"
   ]
  },
  {
   "cell_type": "code",
   "execution_count": 112,
   "metadata": {},
   "outputs": [
    {
     "name": "stdout",
     "output_type": "stream",
     "text": [
      "\n",
      "Matrix#(0,) = [[1 2 3]\n",
      " [4 5 6]]\n",
      "\n",
      "Vector#(0,0)= [1 2 3]\n",
      "\n",
      "scalar#(0,0,0) = 1\n",
      "\n",
      "scalar#(0,0,1) = 2\n",
      "\n",
      "scalar#(0,0,2) = 3\n",
      "\n",
      "Vector#(0,1)= [4 5 6]\n",
      "\n",
      "scalar#(0,1,0) = 4\n",
      "\n",
      "scalar#(0,1,1) = 5\n",
      "\n",
      "scalar#(0,1,2) = 6\n",
      "\n",
      "Matrix#(1,) = [[ 7  8  9]\n",
      " [10 11 12]]\n",
      "\n",
      "Vector#(1,0)= [7 8 9]\n",
      "\n",
      "scalar#(1,0,0) = 7\n",
      "\n",
      "scalar#(1,0,1) = 8\n",
      "\n",
      "scalar#(1,0,2) = 9\n",
      "\n",
      "Vector#(1,1)= [10 11 12]\n",
      "\n",
      "scalar#(1,1,0) = 10\n",
      "\n",
      "scalar#(1,1,1) = 11\n",
      "\n",
      "scalar#(1,1,2) = 12\n"
     ]
    }
   ],
   "source": [
    "for im, matrix in enumerate(np_array) :\n",
    "    print(\"\\nMatrix#({},) = {}\".format(im, matrix))\n",
    "    for iv, vector in enumerate(matrix) : \n",
    "        print(\"\\nVector#({},{})= {}\".format(im, iv, vector))\n",
    "        for js, scalar in enumerate(vector) :\n",
    "            print(\"\\nscalar#({},{},{}) = {}\".format(im, iv, js, scalar))"
   ]
  },
  {
   "cell_type": "markdown",
   "metadata": {},
   "source": [
    "### <font color='blus'> Access array elements from a filter"
   ]
  },
  {
   "cell_type": "markdown",
   "metadata": {},
   "source": [
    "> Create filter : this is a numpy array of booleans"
   ]
  },
  {
   "cell_type": "code",
   "execution_count": 113,
   "metadata": {},
   "outputs": [
    {
     "data": {
      "text/plain": [
       "array([[[False, False, False],\n",
       "        [ True,  True,  True]],\n",
       "\n",
       "       [[ True,  True,  True],\n",
       "        [ True,  True,  True]]])"
      ]
     },
     "metadata": {},
     "output_type": "display_data"
    }
   ],
   "source": [
    "b_filter = np_array > 3\n",
    "display(b_filter)"
   ]
  },
  {
   "cell_type": "markdown",
   "metadata": {},
   "source": [
    "> Apply filter : only values matching with `True` will be kept. Result is a flat array."
   ]
  },
  {
   "cell_type": "code",
   "execution_count": 114,
   "metadata": {},
   "outputs": [
    {
     "data": {
      "text/plain": [
       "array([ 4,  5,  6,  7,  8,  9, 10, 11, 12])"
      ]
     },
     "metadata": {},
     "output_type": "display_data"
    }
   ],
   "source": [
    "display(np_array[b_filter])"
   ]
  },
  {
   "cell_type": "markdown",
   "metadata": {},
   "source": [
    "### <font color='blus'> Random number generation with `numpy`"
   ]
  },
  {
   "cell_type": "markdown",
   "metadata": {},
   "source": [
    "#### <font color='blus'> Generate a random vector of integer numbers"
   ]
  },
  {
   "cell_type": "code",
   "execution_count": 115,
   "metadata": {},
   "outputs": [
    {
     "data": {
      "text/plain": [
       "array([17, 23, 27, 23])"
      ]
     },
     "execution_count": 115,
     "metadata": {},
     "output_type": "execute_result"
    }
   ],
   "source": [
    "np_randint = np.random.randint(10, 30, 4)\n",
    "np_randint"
   ]
  },
  {
   "cell_type": "markdown",
   "metadata": {},
   "source": [
    "#### <font color='blus'> Generate a random vector of float numbers"
   ]
  },
  {
   "cell_type": "code",
   "execution_count": 116,
   "metadata": {},
   "outputs": [
    {
     "data": {
      "text/plain": [
       "array([0.2858453 , 0.88075691, 0.90179491])"
      ]
     },
     "execution_count": 116,
     "metadata": {},
     "output_type": "execute_result"
    }
   ],
   "source": [
    "np_rand = np.random.ranf(3)\n",
    "np_rand"
   ]
  }
 ],
 "metadata": {
  "kernelspec": {
   "display_name": "Python 3 (ipykernel)",
   "language": "python",
   "name": "python3"
  },
  "language_info": {
   "codemirror_mode": {
    "name": "ipython",
    "version": 3
   },
   "file_extension": ".py",
   "mimetype": "text/x-python",
   "name": "python",
   "nbconvert_exporter": "python",
   "pygments_lexer": "ipython3",
   "version": "3.9.13"
  }
 },
 "nbformat": 4,
 "nbformat_minor": 4
}
